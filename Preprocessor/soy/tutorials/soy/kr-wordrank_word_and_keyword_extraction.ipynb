{
 "cells": [
  {
   "cell_type": "markdown",
   "metadata": {},
   "source": [
    "## KR-WordRank: method for word / keyword extraction\n",
    "\n",
    "KR-WordRank는 Kim et al.(2014)^[1]의 논문을 바탕으로 한 비지도학습기반 단어 추출 기법으로, 데이터기반으로 주요단어 (키워드)를 추출하는 알고리즘이다. 하나의 도메인에 대한 문서들을 바탕으로 명사/형용사/동사/부사 (L set) 중에서 빈도수가 높거나, 주요 단어들과 함께 등장하는 단어를 키워드로 추출한다. KR-WordRank는 이름에서 나타나는바와 같이 단어 후보 (subtokens)을 이용하여 word-graph를 생성한 뒤, PageRank의 랭킹 학습 방식을 이용하여 word-graph의 hub subtokens을 추출한다. \n",
    "\n",
    "KR-WordRank는 다음의 가정을 기반으로 단어를 추출한다. **단어 주변에는 단어가 등장하며, 올바른 단어는 주위의 많은 단어들과 연결되어 있다. 그렇기 때문에 단어는 주위 단어들에 의하여 단어 점수가 보강(reinforced)된다.**\n",
    "\n",
    "\n",
    "![kr_wordrank_structure](figs/kr_wordrank_fig1.png)\n",
    "\n",
    "\n",
    "한국어는 의미를 지니는 단어 집합과 문법 기능을 하는 복합형태소 집합으로 나뉘어지며, [문법/명사] + [을/조사]와 같이 어절의 왼쪽에 의미를 지니는 단어인 명사/형용사/동사가 위치한다. 부사는 그 자체로 한 어절을 이룬다. 그렇기 때문에 KR-WordRank는 의미있는 단어로서 어절 자체나 어절의 왼쪽에 등장하는 L set을 추출한다. 또한 한국어는 한 글자에 지나치게 많은 의미가 담겨져 있어 해석이 모호하기 때문에 1음절 단어는 추출되는 단어에서 제외한다. 실제로 subtokens으로 이뤄진 word-graph에서 1음절 단어들은 매우 높은 랭킹을 지닌다. KR-WordRank는 아래 그림과 같이 subtokens을 어절의 위치에 따라 L/R tags를 부여하여 word-graph를 만든 뒤, 랭킹을 계산한다. \n",
    "\n",
    "![kr_wordrank_structure](figs/kr_wordrank_fig2.png)\n",
    "\n",
    "논문에서 기술되지 않은 후처리(post-processing)가 추가되었다. 영화리뷰의 경우, '영화', '영화가', '영화를' 와 같이 \"단어 + R set\"이 함께 키워드로 추출된다. 이는 KR-WordRank가 주요 L set 혹은 어절을 추출하기 때문이며, '영화', '영화가' 주변 모두 올바른 단어가 위치하기 때문이다. 그렇기 때문에 '영화'라는 단어가 '영화가', '영화를' 등보다 높은 랭킹을 지녔다면, '영화' + R set는 L + R 복합어라 판단하여 제외하였다. \n",
    "\n",
    "        keywords = self._select_keywords(lset, rset)\n",
    "\n",
    "두번째 후처리로, '영화', '음악', '영화음악'이 키워드로 추출되었고, '영화', '음악'이 모두 '영화음악'보다 랭킹이 높을 경우, '영화음악'은 합성어로 판단하여 이를 제거하였다. \n",
    "\n",
    "        keywords = self._filter_compounds(keywords)\n",
    "\n",
    "마지막 후처리로, '스토리'가 상위 랭킹이 될 경우, 한 글자가 랭킹이 높아서 '스토' 역시 키워드로 추출될 수 있다. '스토리'가 상위 랭킹이 된다면 '스토'와 같은 substring은 키워드에서 제거하였다. \n",
    "\n",
    "        keywords = self._filter_subtokens(keywords)\n",
    "\n",
    "사용법은 아래의 예제 코드와 같다. \n",
    "\n",
    "[1] Kim, H. J., Cho, S., & Kang, P. (2014). KR-WordRank: An Unsupervised Korean Word Extraction Method Based on WordRank. Journal of Korean Institute of Industrial Engineers, 40(1), 18-33."
   ]
  },
  {
   "cell_type": "code",
   "execution_count": 1,
   "metadata": {
    "collapsed": false
   },
   "outputs": [],
   "source": [
    "import glob\n",
    "import json\n",
    "import sys\n",
    "\n",
    "YOUR_GIT_REPOSITORY = '../../../soy/'\n",
    "sys.path.append(YOUR_GIT_REPOSITORY)"
   ]
  },
  {
   "cell_type": "markdown",
   "metadata": {},
   "source": [
    "단어 추출에 영어/숫자를 포함할 예정이라면 normalize함수를 이용하여 텍스트를 normalize할 것"
   ]
  },
  {
   "cell_type": "code",
   "execution_count": 2,
   "metadata": {
    "collapsed": true
   },
   "outputs": [],
   "source": [
    "def get_texts_scores(fname):\n",
    "    with open(fname, encoding='utf-8') as f:\n",
    "        docs = [doc.lower().replace('\\n','').split('\\t') for doc in f]\n",
    "        docs = [doc for doc in docs if len(doc) == 2]\n",
    "        \n",
    "        if not docs:\n",
    "            return [], []\n",
    "        \n",
    "        texts, scores = zip(*docs)\n",
    "        return list(texts), list(scores)\n",
    "\n",
    "# La La Land\n",
    "fname = '../../data/naver_movie/comments/134963.txt'\n",
    "texts, scores = get_texts_scores(fname)"
   ]
  },
  {
   "cell_type": "code",
   "execution_count": null,
   "metadata": {
    "collapsed": true
   },
   "outputs": [],
   "source": [
    "with open('../../data/naver_movie/comments/134963_norm.txt', 'w', encoding='utf-8') as f:\n",
    "    for text, score in zip(texts, scores):\n",
    "        text = normalize(text, english=True, number=True)\n",
    "        f.write('%s\\t%s\\n' % (text, str(score)))"
   ]
  },
  {
   "cell_type": "code",
   "execution_count": 3,
   "metadata": {
    "collapsed": true
   },
   "outputs": [],
   "source": [
    "# La La Land\n",
    "fname = '../../data/naver_movie/comments/134963_norm.txt'\n",
    "texts, scores = get_texts_scores(fname)"
   ]
  },
  {
   "cell_type": "code",
   "execution_count": 8,
   "metadata": {
    "collapsed": false
   },
   "outputs": [
    {
     "name": "stdout",
     "output_type": "stream",
     "text": [
      "scan vocabs ... \n",
      "num vocabs = 15097\n",
      "done\n"
     ]
    }
   ],
   "source": [
    "min_count = 5   # 단어의 최소 출현 빈도수 (그래프 생성 시)\n",
    "max_length = 10 # 단어의 최대 길이\n",
    "kr_wordrank = KR_WordRank(min_count, max_length)\n",
    "\n",
    "beta = 0.85    # PageRank의 decaying factor beta\n",
    "max_iter = 10\n",
    "verbose = True\n",
    "keywords, rank, graph = kr_wordrank.extract(texts, beta, max_iter, verbose)"
   ]
  },
  {
   "cell_type": "code",
   "execution_count": null,
   "metadata": {
    "collapsed": true
   },
   "outputs": [],
   "source": [
    "keywords, rank, graph = kr_wordrank.extract(texts, beta, max_iter, verbose, vocabulary={}, bias={})"
   ]
  },
  {
   "cell_type": "markdown",
   "metadata": {},
   "source": [
    "위와 같이 vocabulary를 미리 설정하거나 decaying factor를 단어별로 다르게 (bias) 할당할 수 있으며, 모든 단어의 랭킹의 총 합은 vocabulary size와 같음. 즉 default decaying factor는 1.0"
   ]
  },
  {
   "cell_type": "code",
   "execution_count": 9,
   "metadata": {
    "collapsed": false
   },
   "outputs": [
    {
     "name": "stdout",
     "output_type": "stream",
     "text": [
      "      영화:\t229.7889\n",
      "     관람객:\t112.3404\n",
      "      너무:\t78.4055\n",
      "      음악:\t37.6247\n",
      "      정말:\t37.2504\n",
      "     마지막:\t34.9952\n",
      "      최고:\t22.4425\n",
      "      사랑:\t21.1355\n",
      "     뮤지컬:\t20.7357\n",
      "      꿈을:\t19.5282\n",
      "     여운이:\t19.4032\n",
      "      보고:\t19.4005\n",
      "      아름:\t18.6495\n",
      "      진짜:\t18.5599\n",
      "      영상:\t18.1099\n",
      "      좋았:\t17.8625\n",
      "      노래:\t16.9019\n",
      "     스토리:\t16.2600\n",
      "      좋은:\t15.4661\n",
      "      그냥:\t15.2136\n",
      "      현실:\t15.0772\n",
      "      생각:\t14.6264\n",
      "      인생:\t14.2642\n",
      "      좋고:\t13.9971\n",
      "      지루:\t13.8732\n",
      "      다시:\t13.7812\n",
      "      감동:\t13.4817\n",
      "      느낌:\t12.3127\n",
      "      ㅠㅠ:\t12.1447\n",
      "      좋아:\t11.9586\n",
      "      보는:\t11.8995\n",
      "      계속:\t11.5078\n",
      "      조금:\t11.4933\n",
      "      연기:\t11.4792\n",
      "      많이:\t11.0381\n",
      "     그리고:\t11.0165\n",
      "      장면:\t11.0128\n",
      "      있는:\t10.7771\n",
      "      하는:\t10.5781\n",
      "      결말:\t10.5147\n",
      "      재미:\t10.2599\n",
      "      남는:\t10.0084\n",
      "      사람:\t9.8278\n",
      "      재밌:\t9.8230\n",
      "      처음:\t9.5475\n",
      "      모두:\t9.4312\n",
      "     봤는데:\t9.2878\n",
      "     하지만:\t8.9914\n",
      "     라이언:\t8.7217\n",
      "     눈물이:\t8.7091\n",
      "      내내:\t8.7002\n",
      "      연출:\t8.5802\n",
      "      모든:\t8.5401\n",
      "      이런:\t8.4710\n",
      "      재즈:\t8.2790\n",
      "      of:\t8.1979\n",
      "      같은:\t8.1753\n",
      "      별로:\t8.0444\n",
      "      대한:\t7.8475\n",
      "      기대:\t7.7767\n",
      "      ㅎㅎ:\t7.5212\n",
      "      엔딩:\t7.4026\n",
      "      배우:\t7.3413\n",
      "      내가:\t7.2186\n",
      "     이렇게:\t7.1143\n",
      "      평점:\t7.1133\n",
      "      올해:\t7.0979\n",
      "     이야기:\t7.0940\n",
      "      꿈과:\t6.9040\n",
      "      추천:\t6.7026\n",
      "      그런:\t6.6349\n",
      "      함께:\t6.6075\n",
      "     중간에:\t6.4380\n",
      "      보면:\t6.3972\n",
      "      슬픈:\t6.3735\n",
      "      감독:\t6.3684\n",
      "      없는:\t6.3444\n",
      "      가슴:\t6.3305\n",
      "     봤어요:\t6.3160\n",
      "      엠마:\t6.2970\n",
      "      아니:\t6.2124\n",
      "      가장:\t6.1977\n",
      "      한번:\t6.1640\n",
      "      마음:\t6.1246\n",
      "      특히:\t6.1034\n",
      "      하나:\t6.0702\n",
      "      10:\t6.0677\n",
      "      내용:\t6.0675\n",
      "      라라:\t5.9164\n",
      "      같다:\t5.8308\n",
      "      서로:\t5.8303\n",
      "     ost:\t5.7369\n",
      "      않은:\t5.6927\n",
      "      행복:\t5.6602\n",
      "      좋다:\t5.6009\n",
      "      남자:\t5.5850\n",
      "      위한:\t5.5576\n",
      "      없다:\t5.4103\n",
      "      귀가:\t5.3787\n",
      "     피아노:\t5.2905\n"
     ]
    }
   ],
   "source": [
    "for word, r in sorted(keywords.items(), key=lambda x:x[1], reverse=True)[:100]:\n",
    "    print('%8s:\\t%.4f' % (word, r))"
   ]
  },
  {
   "cell_type": "markdown",
   "metadata": {
    "collapsed": true
   },
   "source": [
    "## PageRank를 이용한 WordRank 구현, KR-WordRank와의 비교"
   ]
  },
  {
   "cell_type": "code",
   "execution_count": 3,
   "metadata": {
    "collapsed": true
   },
   "outputs": [],
   "source": [
    "from soy.ml.graph import Graph, PageRank\n",
    "\n",
    "fname = '../../data/naver_movie/comments/134963_norm.txt'\n",
    "texts, scores = get_texts_scores(fname)"
   ]
  },
  {
   "cell_type": "markdown",
   "metadata": {},
   "source": [
    "### 띄어쓰기 정보를 이용하지 않는 WordRank의 경우"
   ]
  },
  {
   "cell_type": "code",
   "execution_count": null,
   "metadata": {
    "collapsed": true
   },
   "outputs": [],
   "source": [
    "texts_wo_space = [text.replace(' ','') for text in texts]"
   ]
  },
  {
   "cell_type": "code",
   "execution_count": 10,
   "metadata": {
    "collapsed": false
   },
   "outputs": [],
   "source": [
    "min_count = 5   # 단어의 최소 출현 빈도수 (그래프 생성 시)\n",
    "max_length = 10 # 단어의 최대 길이\n",
    "\n",
    "def extract_links(text):\n",
    "    links = []\n",
    "    len_text = len(text)\n",
    "    for bl in range(0, len_text):\n",
    "        for rl in range(1, min(max_length, len_text) + 1):\n",
    "            br = bl + rl\n",
    "            if br >= len_text:\n",
    "                continue\n",
    "            for rr in range(1, min(max_length, len_text) + 1):\n",
    "                er = br + rr\n",
    "                if er <= len_text:\n",
    "                    links.append((text[bl:br], text[br:er]))\n",
    "    return links\n",
    "     \n",
    "#extract_links('abcde')"
   ]
  },
  {
   "cell_type": "code",
   "execution_count": 13,
   "metadata": {
    "collapsed": false
   },
   "outputs": [],
   "source": [
    "# 노드 출현 빈도수 확인\n",
    "\n",
    "from collections import defaultdict\n",
    "counter = defaultdict(lambda: 0)\n",
    "\n",
    "for text in texts_wo_space:\n",
    "    if not text:\n",
    "        continue\n",
    "    for node_l, node_r in extract_links(text):\n",
    "        counter[node_l] += 1\n",
    "        counter[node_r] += 1\n",
    "\n",
    "counter = {node:freq for node, freq in counter.items() if freq >= min_count}"
   ]
  },
  {
   "cell_type": "code",
   "execution_count": null,
   "metadata": {
    "collapsed": true
   },
   "outputs": [],
   "source": [
    "# PageRank에 입력될 그래프 만들기\n",
    "\n",
    "graph = Graph()\n",
    "for text in texts_wo_space:\n",
    "    if not text:\n",
    "        continue\n",
    "    for node_l, node_r in extract_links(text):\n",
    "        if (not node_l in counter) or (not node_r in counter):\n",
    "            continue\n",
    "        graph.add(node_l, node_r, undirected=True)\n",
    "\n",
    "pagerank = PageRank(graph)\n",
    "ranks = pagerank.train()"
   ]
  },
  {
   "cell_type": "code",
   "execution_count": null,
   "metadata": {
    "collapsed": true
   },
   "outputs": [],
   "source": []
  }
 ],
 "metadata": {
  "anaconda-cloud": {},
  "kernelspec": {
   "display_name": "Python [lovit]",
   "language": "python",
   "name": "Python [lovit]"
  },
  "language_info": {
   "codemirror_mode": {
    "name": "ipython",
    "version": 3
   },
   "file_extension": ".py",
   "mimetype": "text/x-python",
   "name": "python",
   "nbconvert_exporter": "python",
   "pygments_lexer": "ipython3",
   "version": "3.5.2"
  }
 },
 "nbformat": 4,
 "nbformat_minor": 0
}
