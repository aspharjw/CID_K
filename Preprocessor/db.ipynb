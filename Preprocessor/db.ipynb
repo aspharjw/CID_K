{
 "cells": [
  {
   "cell_type": "code",
   "execution_count": 6,
   "metadata": {
    "collapsed": true
   },
   "outputs": [],
   "source": [
    "from pydblite import Base"
   ]
  },
  {
   "cell_type": "code",
   "execution_count": 2,
   "metadata": {
    "collapsed": false
   },
   "outputs": [
    {
     "ename": "OSError",
     "evalue": "Base test.pdl already exists",
     "output_type": "error",
     "traceback": [
      "\u001b[0;31m---------------------------------------------------------------------------\u001b[0m",
      "\u001b[0;31mOSError\u001b[0m                                   Traceback (most recent call last)",
      "\u001b[0;32m<ipython-input-2-c387bac36240>\u001b[0m in \u001b[0;36m<module>\u001b[0;34m()\u001b[0m\n\u001b[1;32m      1\u001b[0m \u001b[0mdb\u001b[0m \u001b[1;33m=\u001b[0m \u001b[0mBase\u001b[0m\u001b[1;33m(\u001b[0m\u001b[1;34m'test.pdl'\u001b[0m\u001b[1;33m)\u001b[0m\u001b[1;33m\u001b[0m\u001b[0m\n\u001b[0;32m----> 2\u001b[0;31m \u001b[0mdb\u001b[0m\u001b[1;33m.\u001b[0m\u001b[0mcreate\u001b[0m\u001b[1;33m(\u001b[0m\u001b[1;34m'name'\u001b[0m\u001b[1;33m,\u001b[0m \u001b[1;34m'age'\u001b[0m\u001b[1;33m,\u001b[0m \u001b[1;34m'size'\u001b[0m\u001b[1;33m)\u001b[0m\u001b[1;33m\u001b[0m\u001b[0m\n\u001b[0m",
      "\u001b[0;32mC:\\Program Files\\Anaconda\\lib\\site-packages\\pydblite\\pydblite.py\u001b[0m in \u001b[0;36mcreate\u001b[0;34m(self, *fields, **kw)\u001b[0m\n\u001b[1;32m    163\u001b[0m                 \u001b[1;32mraise\u001b[0m \u001b[0mIOError\u001b[0m\u001b[1;33m(\u001b[0m\u001b[1;34m\"%s exists and is not a file\"\u001b[0m \u001b[1;33m%\u001b[0m \u001b[0mself\u001b[0m\u001b[1;33m.\u001b[0m\u001b[0mpath\u001b[0m\u001b[1;33m)\u001b[0m\u001b[1;33m\u001b[0m\u001b[0m\n\u001b[1;32m    164\u001b[0m             \u001b[1;32melif\u001b[0m \u001b[0mself\u001b[0m\u001b[1;33m.\u001b[0m\u001b[0mmode\u001b[0m \u001b[1;32mis\u001b[0m \u001b[1;34m'create'\u001b[0m\u001b[1;33m:\u001b[0m\u001b[1;33m\u001b[0m\u001b[0m\n\u001b[0;32m--> 165\u001b[0;31m                 \u001b[1;32mraise\u001b[0m \u001b[0mIOError\u001b[0m\u001b[1;33m(\u001b[0m\u001b[1;34m\"Base %s already exists\"\u001b[0m \u001b[1;33m%\u001b[0m \u001b[0mself\u001b[0m\u001b[1;33m.\u001b[0m\u001b[0mpath\u001b[0m\u001b[1;33m)\u001b[0m\u001b[1;33m\u001b[0m\u001b[0m\n\u001b[0m\u001b[1;32m    166\u001b[0m             \u001b[1;32melif\u001b[0m \u001b[0mself\u001b[0m\u001b[1;33m.\u001b[0m\u001b[0mmode\u001b[0m \u001b[1;33m==\u001b[0m \u001b[1;34m\"open\"\u001b[0m\u001b[1;33m:\u001b[0m\u001b[1;33m\u001b[0m\u001b[0m\n\u001b[1;32m    167\u001b[0m                 \u001b[1;32mreturn\u001b[0m \u001b[0mself\u001b[0m\u001b[1;33m.\u001b[0m\u001b[0mopen\u001b[0m\u001b[1;33m(\u001b[0m\u001b[1;33m)\u001b[0m\u001b[1;33m\u001b[0m\u001b[0m\n",
      "\u001b[0;31mOSError\u001b[0m: Base test.pdl already exists"
     ]
    }
   ],
   "source": [
    "db = Base('test.pdl')\n",
    "db.create('name', 'age', 'size')"
   ]
  },
  {
   "cell_type": "code",
   "execution_count": 12,
   "metadata": {
    "collapsed": false
   },
   "outputs": [],
   "source": [
    "db = Base('test.pdl')\n",
    "if db.exists():\n",
    "    db.open()"
   ]
  },
  {
   "cell_type": "code",
   "execution_count": 7,
   "metadata": {
    "collapsed": true
   },
   "outputs": [],
   "source": [
    "db.insert(name='homer', age=23, size=1.84)\n",
    "db.commit()"
   ]
  },
  {
   "cell_type": "code",
   "execution_count": 32,
   "metadata": {
    "collapsed": false
   },
   "outputs": [
    {
     "name": "stdout",
     "output_type": "stream",
     "text": [
      "{'name': 'homer', 'age': 23, 'size': 1.84, '__id__': 0, '__version__': 0}\n",
      "{'name': 'asdf', 'age': [1, 2, 3, 4], 'size': {1: 3}, '__id__': 1, '__version__': 0}\n"
     ]
    }
   ],
   "source": [
    "db = Base('test.pdl')\n",
    "if db.exists():\n",
    "    db.open()\n",
    "    \n",
    "for i in db:\n",
    "    print(i)"
   ]
  },
  {
   "cell_type": "code",
   "execution_count": 14,
   "metadata": {
    "collapsed": false
   },
   "outputs": [
    {
     "data": {
      "text/plain": [
       "0"
      ]
     },
     "execution_count": 14,
     "metadata": {},
     "output_type": "execute_result"
    }
   ],
   "source": [
    "db.insert('asdf', [1,2,3], {1:3})"
   ]
  },
  {
   "cell_type": "code",
   "execution_count": 15,
   "metadata": {
    "collapsed": false
   },
   "outputs": [
    {
     "name": "stdout",
     "output_type": "stream",
     "text": [
      "{'name': 'asdf', 'age': [1, 2, 3], 'size,': {1: 3}, '__id__': 0, '__version__': 0}\n",
      "<pydblite.pydblite._BasePy3 object at 0x0000003912565080>\n"
     ]
    }
   ],
   "source": [
    "for i in db:\n",
    "    print(i)\n",
    "          \n",
    "for i in (db('age') == 23):\n",
    "    print(\"asdf\", i['name'])\n",
    "    \n",
    "print(db)"
   ]
  },
  {
   "cell_type": "code",
   "execution_count": 21,
   "metadata": {
    "collapsed": false
   },
   "outputs": [
    {
     "name": "stdout",
     "output_type": "stream",
     "text": [
      "['name', 'age', 'size,']\n",
      "1\n",
      "{0: {'name': 'asdf', 'age': [1, 2, 3], 'size,': {1: 3}, '__id__': 0, '__version__': 0}}\n",
      "{}\n",
      "{'name': None, 'age': None, 'size,': None}\n"
     ]
    }
   ],
   "source": [
    "print(db.fields)\n",
    "print(db.next_id)\n",
    "print(db.records)\n",
    "print(db.indices)\n",
    "print(db.default_values)"
   ]
  },
  {
   "cell_type": "code",
   "execution_count": 16,
   "metadata": {
    "collapsed": true
   },
   "outputs": [],
   "source": [
    "db.commit()"
   ]
  },
  {
   "cell_type": "code",
   "execution_count": 10,
   "metadata": {
    "collapsed": false
   },
   "outputs": [
    {
     "data": {
      "text/plain": [
       "<pydblite.pydblite._BasePy3 at 0x95af7f7c50>"
      ]
     },
     "execution_count": 10,
     "metadata": {},
     "output_type": "execute_result"
    }
   ],
   "source": [
    "db.create('name', 'age', 'size,', mode = \"override\")"
   ]
  },
  {
   "cell_type": "code",
   "execution_count": 1,
   "metadata": {
    "collapsed": true
   },
   "outputs": [],
   "source": [
    "import format_module\n",
    "from pydblite import Base"
   ]
  },
  {
   "cell_type": "code",
   "execution_count": 2,
   "metadata": {
    "collapsed": false
   },
   "outputs": [
    {
     "name": "stdout",
     "output_type": "stream",
     "text": [
      "[1, 2, 3, 4, 5, 6, 7, 8, 9]\n",
      "[1, 2, 4, 6, 6]\n",
      "[1, 1, 2, 2, 3, 4, 4, 5, 6, 6, 6, 7, 8, 9]\n"
     ]
    }
   ],
   "source": [
    "a = format_module.SortedList.list_to_sorted([1,2,3,4,5,6,7,8,9])\n",
    "b = a.to_list()\n",
    "c = [4,6,2,6,1]\n",
    "c.sort()\n",
    "print(b)\n",
    "print(c)\n",
    "from heapq import merge\n",
    "d = format_module.SortedList.list_to_sorted(list(merge(b, c)))\n",
    "print(d.to_list())"
   ]
  },
  {
   "cell_type": "code",
   "execution_count": 8,
   "metadata": {
    "collapsed": false
   },
   "outputs": [
    {
     "name": "stdout",
     "output_type": "stream",
     "text": [
      "ReviewNode - 1\n",
      "\n",
      "ReviewNode - 1\n",
      "\n",
      "ReviewNode - 2\n",
      "\n"
     ]
    }
   ],
   "source": [
    "print(d.root)\n",
    "print(d.root.next.prev.prev.next)\n",
    "print(d.root.next.next)"
   ]
  },
  {
   "cell_type": "code",
   "execution_count": 5,
   "metadata": {
    "collapsed": false
   },
   "outputs": [
    {
     "data": {
      "text/plain": [
       "False"
      ]
     },
     "execution_count": 5,
     "metadata": {},
     "output_type": "execute_result"
    }
   ],
   "source": [
    "\"asdf\" == \"a sdf\""
   ]
  },
  {
   "cell_type": "code",
   "execution_count": 2,
   "metadata": {
    "collapsed": false
   },
   "outputs": [
    {
     "ename": "AttributeError",
     "evalue": "'int' object has no attribute 'db_node'",
     "output_type": "error",
     "traceback": [
      "\u001b[0;31m---------------------------------------------------------------------------\u001b[0m",
      "\u001b[0;31mAttributeError\u001b[0m                            Traceback (most recent call last)",
      "\u001b[0;32m<ipython-input-2-0ed4f91181b6>\u001b[0m in \u001b[0;36m<module>\u001b[0;34m()\u001b[0m\n\u001b[0;32m----> 1\u001b[0;31m \u001b[0ma\u001b[0m \u001b[1;33m=\u001b[0m \u001b[0mformat_module\u001b[0m\u001b[1;33m.\u001b[0m\u001b[0mSortedList\u001b[0m\u001b[1;33m.\u001b[0m\u001b[0mlist_to_sorted\u001b[0m\u001b[1;33m(\u001b[0m\u001b[0mrange\u001b[0m\u001b[1;33m(\u001b[0m\u001b[1;36m10000\u001b[0m\u001b[1;33m)\u001b[0m\u001b[1;33m)\u001b[0m\u001b[1;33m\u001b[0m\u001b[0m\n\u001b[0m",
      "\u001b[0;32mD:\\Users\\현도\\Documents\\수업자료\\창의적 통합 설계에\\CID_K\\Preprocessor\\format_module.py\u001b[0m in \u001b[0;36mlist_to_sorted\u001b[0;34m(cls, arg)\u001b[0m\n\u001b[1;32m     76\u001b[0m         \u001b[0mret\u001b[0m \u001b[1;33m=\u001b[0m \u001b[0mSortedList\u001b[0m\u001b[1;33m(\u001b[0m\u001b[1;33m)\u001b[0m\u001b[1;33m\u001b[0m\u001b[0m\n\u001b[1;32m     77\u001b[0m         \u001b[1;32mfor\u001b[0m \u001b[0mval\u001b[0m \u001b[1;32min\u001b[0m \u001b[0marg\u001b[0m\u001b[1;33m:\u001b[0m\u001b[1;33m\u001b[0m\u001b[0m\n\u001b[0;32m---> 78\u001b[0;31m             \u001b[0mret\u001b[0m\u001b[1;33m.\u001b[0m\u001b[0minsert_tail\u001b[0m\u001b[1;33m(\u001b[0m\u001b[0mval\u001b[0m\u001b[1;33m)\u001b[0m\u001b[1;33m\u001b[0m\u001b[0m\n\u001b[0m\u001b[1;32m     79\u001b[0m \u001b[1;33m\u001b[0m\u001b[0m\n\u001b[1;32m     80\u001b[0m         \u001b[1;32mreturn\u001b[0m \u001b[0mret\u001b[0m\u001b[1;33m\u001b[0m\u001b[0m\n",
      "\u001b[0;32mD:\\Users\\현도\\Documents\\수업자료\\창의적 통합 설계에\\CID_K\\Preprocessor\\format_module.py\u001b[0m in \u001b[0;36minsert_tail\u001b[0;34m(self, val)\u001b[0m\n\u001b[1;32m     53\u001b[0m     \u001b[1;32mdef\u001b[0m \u001b[0minsert_tail\u001b[0m\u001b[1;33m(\u001b[0m\u001b[0mself\u001b[0m\u001b[1;33m,\u001b[0m \u001b[0mval\u001b[0m\u001b[1;33m)\u001b[0m\u001b[1;33m:\u001b[0m\u001b[1;33m\u001b[0m\u001b[0m\n\u001b[1;32m     54\u001b[0m         \u001b[1;32mif\u001b[0m \u001b[0mself\u001b[0m\u001b[1;33m.\u001b[0m\u001b[0msize\u001b[0m \u001b[1;33m==\u001b[0m \u001b[1;36m0\u001b[0m\u001b[1;33m:\u001b[0m\u001b[1;33m\u001b[0m\u001b[0m\n\u001b[0;32m---> 55\u001b[0;31m             \u001b[0mself\u001b[0m\u001b[1;33m.\u001b[0m\u001b[0mset_root\u001b[0m\u001b[1;33m(\u001b[0m\u001b[0mval\u001b[0m\u001b[1;33m)\u001b[0m\u001b[1;33m\u001b[0m\u001b[0m\n\u001b[0m\u001b[1;32m     56\u001b[0m         \u001b[1;32melse\u001b[0m\u001b[1;33m:\u001b[0m\u001b[1;33m\u001b[0m\u001b[0m\n\u001b[1;32m     57\u001b[0m             \u001b[0mself\u001b[0m\u001b[1;33m.\u001b[0m\u001b[0minsert_after\u001b[0m\u001b[1;33m(\u001b[0m\u001b[0mval\u001b[0m\u001b[1;33m,\u001b[0m \u001b[0mself\u001b[0m\u001b[1;33m.\u001b[0m\u001b[0mroot\u001b[0m\u001b[1;33m.\u001b[0m\u001b[0mprev\u001b[0m\u001b[1;33m)\u001b[0m\u001b[1;33m\u001b[0m\u001b[0m\n",
      "\u001b[0;32mD:\\Users\\현도\\Documents\\수업자료\\창의적 통합 설계에\\CID_K\\Preprocessor\\format_module.py\u001b[0m in \u001b[0;36mset_root\u001b[0;34m(self, val)\u001b[0m\n\u001b[1;32m     36\u001b[0m \u001b[1;33m\u001b[0m\u001b[0m\n\u001b[1;32m     37\u001b[0m     \u001b[1;32mdef\u001b[0m \u001b[0mset_root\u001b[0m\u001b[1;33m(\u001b[0m\u001b[0mself\u001b[0m\u001b[1;33m,\u001b[0m \u001b[0mval\u001b[0m\u001b[1;33m)\u001b[0m\u001b[1;33m:\u001b[0m\u001b[1;33m\u001b[0m\u001b[0m\n\u001b[0;32m---> 38\u001b[0;31m         \u001b[0mself\u001b[0m\u001b[1;33m.\u001b[0m\u001b[0mroot\u001b[0m \u001b[1;33m=\u001b[0m \u001b[0mReviewNode\u001b[0m\u001b[1;33m(\u001b[0m\u001b[0mval\u001b[0m\u001b[1;33m)\u001b[0m\u001b[1;33m\u001b[0m\u001b[0m\n\u001b[0m\u001b[1;32m     39\u001b[0m         \u001b[0mself\u001b[0m\u001b[1;33m.\u001b[0m\u001b[0mroot\u001b[0m\u001b[1;33m.\u001b[0m\u001b[0mprev\u001b[0m \u001b[1;33m=\u001b[0m \u001b[0mself\u001b[0m\u001b[1;33m.\u001b[0m\u001b[0mroot\u001b[0m\u001b[1;33m\u001b[0m\u001b[0m\n\u001b[1;32m     40\u001b[0m         \u001b[0mself\u001b[0m\u001b[1;33m.\u001b[0m\u001b[0mroot\u001b[0m\u001b[1;33m.\u001b[0m\u001b[0mnext\u001b[0m \u001b[1;33m=\u001b[0m \u001b[0mself\u001b[0m\u001b[1;33m.\u001b[0m\u001b[0mroot\u001b[0m\u001b[1;33m\u001b[0m\u001b[0m\n",
      "\u001b[0;32mD:\\Users\\현도\\Documents\\수업자료\\창의적 통합 설계에\\CID_K\\Preprocessor\\format_module.py\u001b[0m in \u001b[0;36m__init__\u001b[0;34m(self, data, prev, next)\u001b[0m\n\u001b[1;32m     12\u001b[0m         \u001b[0mself\u001b[0m\u001b[1;33m.\u001b[0m\u001b[0mnext\u001b[0m \u001b[1;33m=\u001b[0m \u001b[0mnext\u001b[0m\u001b[1;33m\u001b[0m\u001b[0m\n\u001b[1;32m     13\u001b[0m \u001b[1;33m\u001b[0m\u001b[0m\n\u001b[0;32m---> 14\u001b[0;31m         \u001b[0mdata\u001b[0m\u001b[1;33m.\u001b[0m\u001b[0mdb_node\u001b[0m \u001b[1;33m=\u001b[0m \u001b[0mself\u001b[0m\u001b[1;33m\u001b[0m\u001b[0m\n\u001b[0m\u001b[1;32m     15\u001b[0m \u001b[1;33m\u001b[0m\u001b[0m\n\u001b[1;32m     16\u001b[0m     \u001b[1;32mdef\u001b[0m \u001b[0mget\u001b[0m\u001b[1;33m(\u001b[0m\u001b[0mself\u001b[0m\u001b[1;33m)\u001b[0m\u001b[1;33m:\u001b[0m\u001b[1;33m\u001b[0m\u001b[0m\n",
      "\u001b[0;31mAttributeError\u001b[0m: 'int' object has no attribute 'db_node'"
     ]
    }
   ],
   "source": [
    "a = format_module.SortedList.list_to_sorted(range(10000))"
   ]
  },
  {
   "cell_type": "code",
   "execution_count": 3,
   "metadata": {
    "collapsed": false
   },
   "outputs": [],
   "source": [
    "db = Base('test.pdl')\n",
    "db.create('node', mode = \"override\")\n",
    "b = a.to_list(get_node = True)\n",
    "i = 1\n",
    "for node in b:\n",
    "    db.insert(node)\n",
    "    if(i%10000 == 0):\n",
    "        print(\"commit \", i)\n",
    "        db.commit()\n",
    "    i+=1"
   ]
  },
  {
   "cell_type": "code",
   "execution_count": null,
   "metadata": {
    "collapsed": true
   },
   "outputs": [],
   "source": [
    "db.create('node', mode = \"override\")\n",
    "db.insert(a.root)"
   ]
  },
  {
   "cell_type": "code",
   "execution_count": 6,
   "metadata": {
    "collapsed": false
   },
   "outputs": [
    {
     "name": "stdout",
     "output_type": "stream",
     "text": [
      "{'node': <format_module.ReviewNode object at 0x0000004B875B1208>, '__id__': 0, '__version__': 0}\n",
      "{'node': <format_module.ReviewNode object at 0x0000004B875B12B0>, '__id__': 1, '__version__': 0}\n",
      "{'node': <format_module.ReviewNode object at 0x0000004B875B1278>, '__id__': 2, '__version__': 0}\n",
      "{'node': <format_module.ReviewNode object at 0x0000004B875B1320>, '__id__': 3, '__version__': 0}\n",
      "{'node': <format_module.ReviewNode object at 0x0000004B875B12E8>, '__id__': 4, '__version__': 0}\n",
      "{'node': <format_module.ReviewNode object at 0x0000004B875B1358>, '__id__': 5, '__version__': 0}\n",
      "{'node': <format_module.ReviewNode object at 0x0000004B875B1390>, '__id__': 6, '__version__': 0}\n",
      "{'node': <format_module.ReviewNode object at 0x0000004B875B13C8>, '__id__': 7, '__version__': 0}\n",
      "{'node': <format_module.ReviewNode object at 0x0000004B875B1400>, '__id__': 8, '__version__': 0}\n",
      "{'node': <format_module.ReviewNode object at 0x0000004B875B1438>, '__id__': 9, '__version__': 0}\n",
      "{'node': <format_module.ReviewNode object at 0x0000004B875B1470>, '__id__': 10, '__version__': 0}\n",
      "{'node': <format_module.ReviewNode object at 0x0000004B875B14A8>, '__id__': 11, '__version__': 0}\n",
      "{'node': <format_module.ReviewNode object at 0x0000004B875B14E0>, '__id__': 12, '__version__': 0}\n",
      "{'node': <format_module.ReviewNode object at 0x0000004B875B1518>, '__id__': 13, '__version__': 0}\n",
      "{'node': <format_module.ReviewNode object at 0x0000004B875B1550>, '__id__': 14, '__version__': 0}\n",
      "{'node': <format_module.ReviewNode object at 0x0000004B875B1588>, '__id__': 15, '__version__': 0}\n",
      "{'node': <format_module.ReviewNode object at 0x0000004B875B15C0>, '__id__': 16, '__version__': 0}\n",
      "{'node': <format_module.ReviewNode object at 0x0000004B875B15F8>, '__id__': 17, '__version__': 0}\n",
      "{'node': <format_module.ReviewNode object at 0x0000004B875B1630>, '__id__': 18, '__version__': 0}\n",
      "{'node': <format_module.ReviewNode object at 0x0000004B875B1668>, '__id__': 19, '__version__': 0}\n",
      "{'node': <format_module.ReviewNode object at 0x0000004B875B16A0>, '__id__': 20, '__version__': 0}\n",
      "{'node': <format_module.ReviewNode object at 0x0000004B875B16D8>, '__id__': 21, '__version__': 0}\n",
      "{'node': <format_module.ReviewNode object at 0x0000004B875B1710>, '__id__': 22, '__version__': 0}\n",
      "{'node': <format_module.ReviewNode object at 0x0000004B875B1748>, '__id__': 23, '__version__': 0}\n",
      "{'node': <format_module.ReviewNode object at 0x0000004B875B1780>, '__id__': 24, '__version__': 0}\n",
      "{'node': <format_module.ReviewNode object at 0x0000004B875B17B8>, '__id__': 25, '__version__': 0}\n",
      "{'node': <format_module.ReviewNode object at 0x0000004B875B17F0>, '__id__': 26, '__version__': 0}\n",
      "{'node': <format_module.ReviewNode object at 0x0000004B875B1828>, '__id__': 27, '__version__': 0}\n",
      "{'node': <format_module.ReviewNode object at 0x0000004B875B1860>, '__id__': 28, '__version__': 0}\n",
      "{'node': <format_module.ReviewNode object at 0x0000004B875B1898>, '__id__': 29, '__version__': 0}\n",
      "{'node': <format_module.ReviewNode object at 0x0000004B875B18D0>, '__id__': 30, '__version__': 0}\n",
      "{'node': <format_module.ReviewNode object at 0x0000004B875B1908>, '__id__': 31, '__version__': 0}\n",
      "{'node': <format_module.ReviewNode object at 0x0000004B875B1940>, '__id__': 32, '__version__': 0}\n",
      "{'node': <format_module.ReviewNode object at 0x0000004B875B1978>, '__id__': 33, '__version__': 0}\n",
      "{'node': <format_module.ReviewNode object at 0x0000004B875B19B0>, '__id__': 34, '__version__': 0}\n",
      "{'node': <format_module.ReviewNode object at 0x0000004B875B19E8>, '__id__': 35, '__version__': 0}\n",
      "{'node': <format_module.ReviewNode object at 0x0000004B875B1A20>, '__id__': 36, '__version__': 0}\n",
      "{'node': <format_module.ReviewNode object at 0x0000004B875B1A58>, '__id__': 37, '__version__': 0}\n",
      "{'node': <format_module.ReviewNode object at 0x0000004B875B1A90>, '__id__': 38, '__version__': 0}\n",
      "{'node': <format_module.ReviewNode object at 0x0000004B875B1AC8>, '__id__': 39, '__version__': 0}\n",
      "{'node': <format_module.ReviewNode object at 0x0000004B875B1B00>, '__id__': 40, '__version__': 0}\n",
      "{'node': <format_module.ReviewNode object at 0x0000004B875B1B38>, '__id__': 41, '__version__': 0}\n",
      "{'node': <format_module.ReviewNode object at 0x0000004B875B1B70>, '__id__': 42, '__version__': 0}\n",
      "{'node': <format_module.ReviewNode object at 0x0000004B875B1BA8>, '__id__': 43, '__version__': 0}\n",
      "{'node': <format_module.ReviewNode object at 0x0000004B875B1BE0>, '__id__': 44, '__version__': 0}\n",
      "{'node': <format_module.ReviewNode object at 0x0000004B875B1C18>, '__id__': 45, '__version__': 0}\n",
      "{'node': <format_module.ReviewNode object at 0x0000004B875B1C50>, '__id__': 46, '__version__': 0}\n",
      "{'node': <format_module.ReviewNode object at 0x0000004B875B1C88>, '__id__': 47, '__version__': 0}\n",
      "{'node': <format_module.ReviewNode object at 0x0000004B875B1CC0>, '__id__': 48, '__version__': 0}\n",
      "{'node': <format_module.ReviewNode object at 0x0000004B875B1CF8>, '__id__': 49, '__version__': 0}\n",
      "{0: {'node': <format_module.ReviewNode object at 0x0000004B875B1208>, '__id__': 0, '__version__': 0}, 1: {'node': <format_module.ReviewNode object at 0x0000004B875B12B0>, '__id__': 1, '__version__': 0}, 2: {'node': <format_module.ReviewNode object at 0x0000004B875B1278>, '__id__': 2, '__version__': 0}, 3: {'node': <format_module.ReviewNode object at 0x0000004B875B1320>, '__id__': 3, '__version__': 0}, 4: {'node': <format_module.ReviewNode object at 0x0000004B875B12E8>, '__id__': 4, '__version__': 0}, 5: {'node': <format_module.ReviewNode object at 0x0000004B875B1358>, '__id__': 5, '__version__': 0}, 6: {'node': <format_module.ReviewNode object at 0x0000004B875B1390>, '__id__': 6, '__version__': 0}, 7: {'node': <format_module.ReviewNode object at 0x0000004B875B13C8>, '__id__': 7, '__version__': 0}, 8: {'node': <format_module.ReviewNode object at 0x0000004B875B1400>, '__id__': 8, '__version__': 0}, 9: {'node': <format_module.ReviewNode object at 0x0000004B875B1438>, '__id__': 9, '__version__': 0}, 10: {'node': <format_module.ReviewNode object at 0x0000004B875B1470>, '__id__': 10, '__version__': 0}, 11: {'node': <format_module.ReviewNode object at 0x0000004B875B14A8>, '__id__': 11, '__version__': 0}, 12: {'node': <format_module.ReviewNode object at 0x0000004B875B14E0>, '__id__': 12, '__version__': 0}, 13: {'node': <format_module.ReviewNode object at 0x0000004B875B1518>, '__id__': 13, '__version__': 0}, 14: {'node': <format_module.ReviewNode object at 0x0000004B875B1550>, '__id__': 14, '__version__': 0}, 15: {'node': <format_module.ReviewNode object at 0x0000004B875B1588>, '__id__': 15, '__version__': 0}, 16: {'node': <format_module.ReviewNode object at 0x0000004B875B15C0>, '__id__': 16, '__version__': 0}, 17: {'node': <format_module.ReviewNode object at 0x0000004B875B15F8>, '__id__': 17, '__version__': 0}, 18: {'node': <format_module.ReviewNode object at 0x0000004B875B1630>, '__id__': 18, '__version__': 0}, 19: {'node': <format_module.ReviewNode object at 0x0000004B875B1668>, '__id__': 19, '__version__': 0}, 20: {'node': <format_module.ReviewNode object at 0x0000004B875B16A0>, '__id__': 20, '__version__': 0}, 21: {'node': <format_module.ReviewNode object at 0x0000004B875B16D8>, '__id__': 21, '__version__': 0}, 22: {'node': <format_module.ReviewNode object at 0x0000004B875B1710>, '__id__': 22, '__version__': 0}, 23: {'node': <format_module.ReviewNode object at 0x0000004B875B1748>, '__id__': 23, '__version__': 0}, 24: {'node': <format_module.ReviewNode object at 0x0000004B875B1780>, '__id__': 24, '__version__': 0}, 25: {'node': <format_module.ReviewNode object at 0x0000004B875B17B8>, '__id__': 25, '__version__': 0}, 26: {'node': <format_module.ReviewNode object at 0x0000004B875B17F0>, '__id__': 26, '__version__': 0}, 27: {'node': <format_module.ReviewNode object at 0x0000004B875B1828>, '__id__': 27, '__version__': 0}, 28: {'node': <format_module.ReviewNode object at 0x0000004B875B1860>, '__id__': 28, '__version__': 0}, 29: {'node': <format_module.ReviewNode object at 0x0000004B875B1898>, '__id__': 29, '__version__': 0}, 30: {'node': <format_module.ReviewNode object at 0x0000004B875B18D0>, '__id__': 30, '__version__': 0}, 31: {'node': <format_module.ReviewNode object at 0x0000004B875B1908>, '__id__': 31, '__version__': 0}, 32: {'node': <format_module.ReviewNode object at 0x0000004B875B1940>, '__id__': 32, '__version__': 0}, 33: {'node': <format_module.ReviewNode object at 0x0000004B875B1978>, '__id__': 33, '__version__': 0}, 34: {'node': <format_module.ReviewNode object at 0x0000004B875B19B0>, '__id__': 34, '__version__': 0}, 35: {'node': <format_module.ReviewNode object at 0x0000004B875B19E8>, '__id__': 35, '__version__': 0}, 36: {'node': <format_module.ReviewNode object at 0x0000004B875B1A20>, '__id__': 36, '__version__': 0}, 37: {'node': <format_module.ReviewNode object at 0x0000004B875B1A58>, '__id__': 37, '__version__': 0}, 38: {'node': <format_module.ReviewNode object at 0x0000004B875B1A90>, '__id__': 38, '__version__': 0}, 39: {'node': <format_module.ReviewNode object at 0x0000004B875B1AC8>, '__id__': 39, '__version__': 0}, 40: {'node': <format_module.ReviewNode object at 0x0000004B875B1B00>, '__id__': 40, '__version__': 0}, 41: {'node': <format_module.ReviewNode object at 0x0000004B875B1B38>, '__id__': 41, '__version__': 0}, 42: {'node': <format_module.ReviewNode object at 0x0000004B875B1B70>, '__id__': 42, '__version__': 0}, 43: {'node': <format_module.ReviewNode object at 0x0000004B875B1BA8>, '__id__': 43, '__version__': 0}, 44: {'node': <format_module.ReviewNode object at 0x0000004B875B1BE0>, '__id__': 44, '__version__': 0}, 45: {'node': <format_module.ReviewNode object at 0x0000004B875B1C18>, '__id__': 45, '__version__': 0}, 46: {'node': <format_module.ReviewNode object at 0x0000004B875B1C50>, '__id__': 46, '__version__': 0}, 47: {'node': <format_module.ReviewNode object at 0x0000004B875B1C88>, '__id__': 47, '__version__': 0}, 48: {'node': <format_module.ReviewNode object at 0x0000004B875B1CC0>, '__id__': 48, '__version__': 0}, 49: {'node': <format_module.ReviewNode object at 0x0000004B875B1CF8>, '__id__': 49, '__version__': 0}}\n"
     ]
    }
   ],
   "source": [
    "for i in db:\n",
    "    print (i)\n",
    "    \n",
    "print(db.records)"
   ]
  },
  {
   "cell_type": "code",
   "execution_count": 4,
   "metadata": {
    "collapsed": false
   },
   "outputs": [],
   "source": [
    "db.commit()"
   ]
  },
  {
   "cell_type": "code",
   "execution_count": null,
   "metadata": {
    "collapsed": true
   },
   "outputs": [],
   "source": []
  }
 ],
 "metadata": {
  "kernelspec": {
   "display_name": "Python 3",
   "language": "python",
   "name": "python3"
  },
  "language_info": {
   "codemirror_mode": {
    "name": "ipython",
    "version": 3
   },
   "file_extension": ".py",
   "mimetype": "text/x-python",
   "name": "python",
   "nbconvert_exporter": "python",
   "pygments_lexer": "ipython3",
   "version": "3.6.1"
  }
 },
 "nbformat": 4,
 "nbformat_minor": 2
}
