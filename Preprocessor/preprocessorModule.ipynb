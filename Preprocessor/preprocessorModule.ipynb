{
 "cells": [
  {
   "cell_type": "markdown",
   "metadata": {},
   "source": [
    "# Preprocess module"
   ]
  },
  {
   "cell_type": "markdown",
   "metadata": {},
   "source": [
    "## Import Jupyter Module in other files\n",
    "\n",
    "this code is for importing .ipynb files. YEYEEE"
   ]
  },
  {
   "cell_type": "markdown",
   "metadata": {},
   "source": [
    "- code form <br/ > \n",
    "http://jupyter-notebook.readthedocs.io/en/stable/examples/Notebook/Importing%20Notebooks.html"
   ]
  },
  {
   "cell_type": "code",
   "execution_count": 1,
   "metadata": {},
   "outputs": [],
   "source": [
    "import io, os, sys, types\n",
    "from IPython import get_ipython\n",
    "from nbformat import read\n",
    "from IPython.core.interactiveshell import InteractiveShell"
   ]
  },
  {
   "cell_type": "code",
   "execution_count": 2,
   "metadata": {},
   "outputs": [],
   "source": [
    "def find_notebook(fullname, path=None):\n",
    "    \"\"\"find a notebook, given its fully qualified name and an optional path\n",
    "\n",
    "    This turns \"foo.bar\" into \"foo/bar.ipynb\"\n",
    "    and tries turning \"Foo_Bar\" into \"Foo Bar\" if Foo_Bar\n",
    "    does not exist.\n",
    "    \"\"\"\n",
    "    name = fullname.rsplit('.', 1)[-1]\n",
    "    if not path:\n",
    "        path = ['']\n",
    "    for d in path:\n",
    "        nb_path = os.path.join(d, name + \".ipynb\")\n",
    "        if os.path.isfile(nb_path):\n",
    "            return nb_path\n",
    "        # let import Notebook_Name find \"Notebook Name.ipynb\"\n",
    "        nb_path = nb_path.replace(\"_\", \" \")\n",
    "        if os.path.isfile(nb_path):\n",
    "            return nb_path"
   ]
  },
  {
   "cell_type": "code",
   "execution_count": 3,
   "metadata": {},
   "outputs": [],
   "source": [
    "class NotebookLoader(object):\n",
    "    \"\"\"Module Loader for Jupyter Notebooks\"\"\"\n",
    "    def __init__(self, path=None):\n",
    "        self.shell = InteractiveShell.instance()\n",
    "        self.path = path\n",
    "\n",
    "    def load_module(self, fullname):\n",
    "        \"\"\"import a notebook as a module\"\"\"\n",
    "        path = find_notebook(fullname, self.path)\n",
    "\n",
    "        print (\"importing Jupyter notebook from %s\" % path)\n",
    "\n",
    "        # load the notebook object\n",
    "        with io.open(path, 'r', encoding='utf-8') as f:\n",
    "            nb = read(f, 4)\n",
    "\n",
    "\n",
    "        # create the module and add it to sys.modules\n",
    "        # if name in sys.modules:\n",
    "        #    return sys.modules[name]\n",
    "        mod = types.ModuleType(fullname)\n",
    "        mod.__file__ = path\n",
    "        mod.__loader__ = self\n",
    "        mod.__dict__['get_ipython'] = get_ipython\n",
    "        sys.modules[fullname] = mod\n",
    "\n",
    "        # extra work to ensure that magics that would affect the user_ns\n",
    "        # actually affect the notebook module's ns\n",
    "        save_user_ns = self.shell.user_ns\n",
    "        self.shell.user_ns = mod.__dict__\n",
    "\n",
    "        try:\n",
    "          for cell in nb.cells:\n",
    "            if cell.cell_type == 'code':\n",
    "                # transform the input to executable Python\n",
    "                code = self.shell.input_transformer_manager.transform_cell(cell.source)\n",
    "                # run the code in themodule\n",
    "                exec(code, mod.__dict__)\n",
    "        finally:\n",
    "            self.shell.user_ns = save_user_ns\n",
    "        return mod"
   ]
  },
  {
   "cell_type": "code",
   "execution_count": 4,
   "metadata": {},
   "outputs": [],
   "source": [
    "class NotebookFinder(object):\n",
    "    \"\"\"Module finder that locates Jupyter Notebooks\"\"\"\n",
    "    def __init__(self):\n",
    "        self.loaders = {}\n",
    "\n",
    "    def find_module(self, fullname, path=None):\n",
    "        nb_path = find_notebook(fullname, path)\n",
    "        if not nb_path:\n",
    "            return\n",
    "\n",
    "        key = path\n",
    "        if path:\n",
    "            # lists aren't hashable\n",
    "            key = os.path.sep.join(path)\n",
    "\n",
    "        if key not in self.loaders:\n",
    "            self.loaders[key] = NotebookLoader(path)\n",
    "        return self.loaders[key]"
   ]
  },
  {
   "cell_type": "code",
   "execution_count": 5,
   "metadata": {},
   "outputs": [],
   "source": [
    "sys.meta_path.append(NotebookFinder())"
   ]
  },
  {
   "cell_type": "markdown",
   "metadata": {},
   "source": [
    "- word2vec 모듈 다운로드가 요구됨"
   ]
  },
  {
   "cell_type": "code",
   "execution_count": 3,
   "metadata": {},
   "outputs": [
    {
     "name": "stdout",
     "output_type": "stream",
     "text": [
      "Requirement already satisfied: gensim in /usr/local/lib/python3.6/site-packages\n",
      "Requirement already satisfied: scipy>=0.18.1 in /usr/local/lib/python3.6/site-packages (from gensim)\n",
      "Requirement already satisfied: numpy>=1.11.3 in /usr/local/lib/python3.6/site-packages (from gensim)\n",
      "Requirement already satisfied: six>=1.5.0 in /usr/local/lib/python3.6/site-packages (from gensim)\n",
      "Requirement already satisfied: smart-open>=1.2.1 in /usr/local/lib/python3.6/site-packages (from gensim)\n",
      "Requirement already satisfied: bz2file in /usr/local/lib/python3.6/site-packages (from smart-open>=1.2.1->gensim)\n",
      "Requirement already satisfied: boto>=2.32 in /usr/local/lib/python3.6/site-packages (from smart-open>=1.2.1->gensim)\n",
      "Requirement already satisfied: requests in /usr/local/lib/python3.6/site-packages (from smart-open>=1.2.1->gensim)\n",
      "Requirement already satisfied: boto3 in /usr/local/lib/python3.6/site-packages (from smart-open>=1.2.1->gensim)\n",
      "Requirement already satisfied: jmespath<1.0.0,>=0.7.1 in /usr/local/lib/python3.6/site-packages (from boto3->smart-open>=1.2.1->gensim)\n",
      "Requirement already satisfied: botocore<1.9.0,>=1.8.0 in /usr/local/lib/python3.6/site-packages (from boto3->smart-open>=1.2.1->gensim)\n",
      "Requirement already satisfied: s3transfer<0.2.0,>=0.1.10 in /usr/local/lib/python3.6/site-packages (from boto3->smart-open>=1.2.1->gensim)\n",
      "Requirement already satisfied: python-dateutil<3.0.0,>=2.1 in /usr/local/lib/python3.6/site-packages (from botocore<1.9.0,>=1.8.0->boto3->smart-open>=1.2.1->gensim)\n",
      "Requirement already satisfied: docutils>=0.10 in /usr/local/lib/python3.6/site-packages (from botocore<1.9.0,>=1.8.0->boto3->smart-open>=1.2.1->gensim)\n",
      "Requirement already satisfied: konlpy in /usr/local/lib/python3.6/site-packages\n",
      "Requirement already up-to-date: jtypes.jpype in /usr/local/lib/python3.6/site-packages\n",
      "Requirement already up-to-date: setuptools>=30.4.0 in /usr/local/lib/python3.6/site-packages (from jtypes.jpype)\n",
      "Requirement already satisfied: JPype1-py3 in /usr/local/lib/python3.6/site-packages\n",
      "Requirement already satisfied: xlrd in /usr/local/lib/python3.6/site-packages\n",
      "Requirement already satisfied: pydblite in /usr/local/lib/python3.6/site-packages\n",
      "Collecting psutil\n",
      "  Downloading psutil-5.4.1.tar.gz (408kB)\n",
      "\u001b[K    100% |████████████████████████████████| 409kB 2.7MB/s ta 0:00:01\n",
      "\u001b[?25hBuilding wheels for collected packages: psutil\n",
      "  Running setup.py bdist_wheel for psutil ... \u001b[?25ldone\n",
      "\u001b[?25h  Stored in directory: /root/.cache/pip/wheels/05/a2/2a/2015d6af91fb5a4cc5bcdfa9699034e2f624fc9cc5acde7ab9\n",
      "Successfully built psutil\n",
      "Installing collected packages: psutil\n",
      "Successfully installed psutil-5.4.1\n"
     ]
    }
   ],
   "source": [
    "!pip install gensim\n",
    "!pip3 install konlpy\n",
    "!pip install --upgrade jtypes.jpype\n",
    "!pip3 install JPype1-py3\n",
    "!pip install xlrd\n",
    "!pip install https://downloads.sourceforge.net/project/buzhug/buzhug/buzhug-1.8/buzhug-1.8.zip?r=https%3A%2F%2Fsourceforge.net%2Fprojects%2Fbuzhug%2Ffiles%2F&ts=1285445021&use_mirror=switch\n",
    "!pip install pydblite\n",
    "!pip install psutil"
   ]
  },
  {
   "cell_type": "code",
   "execution_count": 4,
   "metadata": {
    "scrolled": true
   },
   "outputs": [],
   "source": [
    "import format_module\n",
    "import bookingreview\n",
    "import preprocessreview\n",
    "import wordvectormaker\n",
    "import postag_module\n",
    "import gensim\n",
    "import xl_to_br_module\n",
    "#sys.setrecursionlimit(20000)"
   ]
  },
  {
   "cell_type": "markdown",
   "metadata": {},
   "source": [
    "# 데이터 저장"
   ]
  },
  {
   "cell_type": "code",
   "execution_count": 5,
   "metadata": {},
   "outputs": [],
   "source": [
    "import _pickle\n",
    "import gc\n",
    "\n",
    "def save_object_split(obj, filename, ext, split_size = 1000):\n",
    "    index = 0\n",
    "    for i in range(0, len(obj), split_size):\n",
    "        with open(filename + \"_p\" + str(index) + \".\" + ext, 'wb') as output:\n",
    "            _pickle.dump(obj[i:i+split_size], output)\n",
    "            index += 1\n",
    "            mem()\n",
    "            gc.collect()\n",
    "                \n",
    "def save_object(obj, filename):\n",
    "    with open(filename, 'wb') as output:\n",
    "        _pickle.dump(obj, output)\n",
    "\n",
    "def load_object(filename):\n",
    "    with open(filename, 'rb') as input:\n",
    "        return _pickle.load(input)\n",
    "    \n",
    "def load_object_split(filename, ext, last_index):\n",
    "    for index in range(last_index+1):\n",
    "        with open(filename + \"_p\" + str(index) + \".\" + ext, 'rb') as input:\n",
    "            if(index == 0):\n",
    "                out = _pickle.load(input)\n",
    "            else:\n",
    "                out.extend(_pickle.load(input))\n",
    "    \n",
    "    return out"
   ]
  },
  {
   "cell_type": "markdown",
   "metadata": {},
   "source": [
    "# Main"
   ]
  },
  {
   "cell_type": "code",
   "execution_count": 6,
   "metadata": {},
   "outputs": [],
   "source": [
    "def postagModule(xl_name, reviewDB, mode = \"komoran\"):\n",
    "    BRList = xl_to_br_module.xl_to_BookingReview(xl_name)\n",
    "    \n",
    "    print(\"adding review to DB...\")\n",
    "    reviewDB.add_review_list(BRList)\n",
    "    \n",
    "    if(mode == \"twitter\"):\n",
    "        PRList = postag_module.twitter(BRList)\n",
    "    else:\n",
    "        PRList = postag_module.komoran(BRList)\n",
    "        mode = \"komoran\"\n",
    "    '''save_object(PRList_twitter, \"save_PR_twitter.pkl\")\n",
    "    save_object(PRList_komoran, \"save_PR_komoran.pkl\")'''\n",
    "    \n",
    "    return PRList"
   ]
  },
  {
   "cell_type": "code",
   "execution_count": 7,
   "metadata": {},
   "outputs": [],
   "source": [
    "def embeddingModule(PRList):\n",
    "    word2vec_model = gensim.models.Word2Vec.load('./models/namuwiki_testmodel_Komoran.model')\n",
    "    print(\"processing word embedding...\")\n",
    "    return wordvectormaker.word2vec_to_PreprocessReview_list(word2vec_model, PRList)"
   ]
  },
  {
   "cell_type": "code",
   "execution_count": 8,
   "metadata": {},
   "outputs": [],
   "source": [
    "def formattingModule(PRList, reviewDB, version):\n",
    "    print(\"processing formatted review...\")\n",
    "    formatted_list = [format_module.FormattedReview(review) for review in PRList]\n",
    "    print(\"saving formatted review...\")\n",
    "    save_object(formatted_list, \"./pkl/save_formatted_review_\" + version +\".pkl\")\n",
    "    return formatted_list"
   ]
  },
  {
   "cell_type": "code",
   "execution_count": 9,
   "metadata": {},
   "outputs": [],
   "source": [
    "def preprocessModule(xl_name, reviewDB, version):\n",
    "    PRList = postagModule(xl_name, reviewDB)\n",
    "    embeddingModule(PRList)\n",
    "    formatted_list = formattingModule(PRList, reviewDB, version)\n",
    "    \n",
    "    return formatted_list"
   ]
  },
  {
   "cell_type": "code",
   "execution_count": 13,
   "metadata": {},
   "outputs": [
    {
     "name": "stdout",
     "output_type": "stream",
     "text": [
      "processing 0 th unit...\n",
      "adding review to DB...\n",
      "=> Postag initiated\n",
      "postagging [komoran] 0 ith unit...\n",
      "processing word embedding...\n",
      "processing formatted review...\n",
      "saving formatted review...\n"
     ]
    }
   ],
   "source": [
    "reviewDB = format_module.ReviewDB(\"./pkl/train_context\")\n",
    "format_module.FormattedReview.setDB(reviewDB)\n",
    "formatted_list = preprocessModule(\"./excel/Commonreviews_snuproject_test_context.xlsx\", reviewDB, \"test_context\")"
   ]
  },
  {
   "cell_type": "code",
   "execution_count": 5,
   "metadata": {},
   "outputs": [
    {
     "name": "stdout",
     "output_type": "stream",
     "text": [
      "ReviewNode - BookingReview object:\n",
      "  Company name = 공차 신림역점\n",
      "  ID = 0___****\n",
      "  Rating = 10\n",
      "  Context = 여기 종종 이용하는데 전 항상 친절해서 좋앗는데... 대체적으로 평이 안좋네요  여기 남자분 알바 중에 영웅재중?닮은 키크고 눈 좀 서납게 생기신분 잇는데 항상 갈때마다 음료추천도 잘해주시고 귀찮게 이것저것 물어봐도 웃으시면서 친절하게 응대해주시는게 넘 감사해서 그분 칭찬해드려여... 그 알바분은 회사에서 상 줫으면 좋겟어여 ㅋㅋ신림점 진상손님도 많을텐데 갈때마다 친절해서 항상 기분좋앗어여\n",
      "  Post time = 41999.687138217596\n",
      "  Label = False\n",
      "  Review id = 40093\n",
      "\n",
      "\n"
     ]
    }
   ],
   "source": [
    "#reviewDB = format_module.ReviewDB(\"validation\")\n",
    "reviewDB = format_module.ReviewDB(\"train\")\n",
    "print(reviewDB.review_dict[41099].next)"
   ]
  },
  {
   "cell_type": "code",
   "execution_count": 16,
   "metadata": {},
   "outputs": [
    {
     "name": "stdout",
     "output_type": "stream",
     "text": [
      "FormattedReview object 41099:\n",
      "  context = \n",
      "[[ 0.13338269  2.57921386  1.10160124 ...,  0.86103064  2.78854179\n",
      "   1.87262499]\n",
      " [-0.13127854  1.65661263 -0.70222795 ...,  1.08186483  1.34531033\n",
      "   3.25771809]\n",
      " [ 1.09225094  0.87828368  3.05598545 ...,  3.32895207 -0.73563319\n",
      "  -0.32933012]\n",
      " ..., \n",
      " [-4.64829493  5.1486454  -2.75840378 ...,  3.04924154  0.15255213\n",
      "  -1.48532724]\n",
      " [ 1.62699354  1.45267355 -0.51794469 ..., -1.59229398  3.52136612\n",
      "   1.01794887]\n",
      " [ 3.2266624   0.68326694 -0.93881059 ..., -1.524984    1.03987861\n",
      "  -1.45865238]]\n",
      "  context_bayes = \n",
      "['동네/NNG', '맛집/NNG', '이/VCP', '라/EC', '찾/VV', '았/EP', '는데/EC', '고급/NNG', '스럽/XSA', 'ㄴ/ETM', '한/MM', '정식/NNG', '집/NNG', '에/JKB', '서비스/NNG', '도/JX', '너무/MAG', '친절/NNG', '하/XSV', '아서/EC', '반하/VV', '았/EP', '어요/EC', '가격/NNG', '대비/NNG', '음식/NNG', '도/JX', '푸짐/XR', '하/XSA', '고/EC', '맛있/VA', '어서/EC', '즐겁/VA', 'ㄴ/ETM', '시간/NNG', '보내/VV', '었/EP', '습/NNG', '이/VCP', '니/EC', '당/XSN', '!/SF']\n",
      "  comp_similarity = 0.5402818532208692\n",
      "  rate = 1.0\n",
      "  reiteration_context = 0\n",
      "  reiteration_repeat = 0\n",
      "  post_time = 0.5496398379618768\n",
      "  post_vip = 0.8571428571428571\n",
      "  label = False\n",
      "\n"
     ]
    }
   ],
   "source": [
    "a = load_object(\"./pkl/save_formatted_review_train.pkl\")\n",
    "print(a[0])"
   ]
  },
  {
   "cell_type": "code",
   "execution_count": null,
   "metadata": {},
   "outputs": [],
   "source": [
    "print(formatted_list[0].context.shape)\n",
    "print(formatted_list[1].context.shape)\n",
    "print(formatted_list[2].context.shape)"
   ]
  },
  {
   "cell_type": "code",
   "execution_count": null,
   "metadata": {},
   "outputs": [],
   "source": [
    "import bookingreview\n",
    "import format_module\n",
    "\n",
    "reviewDB = format_module.ReviewDB()\n",
    "reviewList = [bookingreview.BookingReview(\"회사\", \"id\", 10, \"asdfsadf\", 40000.236+i*0.001, True, i) for i in range(50000)]\n",
    "\n",
    "reviewDB.add_review_list(reviewList)\n",
    "reviewDB.size()"
   ]
  }
 ],
 "metadata": {
  "kernelspec": {
   "display_name": "Python 3",
   "language": "python",
   "name": "python3"
  },
  "language_info": {
   "codemirror_mode": {
    "name": "ipython",
    "version": 3
   },
   "file_extension": ".py",
   "mimetype": "text/x-python",
   "name": "python",
   "nbconvert_exporter": "python",
   "pygments_lexer": "ipython3",
   "version": "3.6.2"
  }
 },
 "nbformat": 4,
 "nbformat_minor": 2
}
