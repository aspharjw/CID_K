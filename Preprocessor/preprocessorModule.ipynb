{
 "cells": [
  {
   "cell_type": "markdown",
   "metadata": {},
   "source": [
    "# Preprocess module"
   ]
  },
  {
   "cell_type": "markdown",
   "metadata": {},
   "source": [
    "## Import Jupyter Module in other files\n",
    "\n",
    "this code is for importing .ipynb files. YEYEEE"
   ]
  },
  {
   "cell_type": "markdown",
   "metadata": {},
   "source": [
    "- code form <br/ > \n",
    "http://jupyter-notebook.readthedocs.io/en/stable/examples/Notebook/Importing%20Notebooks.html"
   ]
  },
  {
   "cell_type": "code",
   "execution_count": 1,
   "metadata": {
    "collapsed": false
   },
   "outputs": [],
   "source": [
    "import io, os, sys, types\n",
    "from IPython import get_ipython\n",
    "from nbformat import read\n",
    "from IPython.core.interactiveshell import InteractiveShell"
   ]
  },
  {
   "cell_type": "code",
   "execution_count": 2,
   "metadata": {
    "collapsed": true
   },
   "outputs": [],
   "source": [
    "def find_notebook(fullname, path=None):\n",
    "    \"\"\"find a notebook, given its fully qualified name and an optional path\n",
    "\n",
    "    This turns \"foo.bar\" into \"foo/bar.ipynb\"\n",
    "    and tries turning \"Foo_Bar\" into \"Foo Bar\" if Foo_Bar\n",
    "    does not exist.\n",
    "    \"\"\"\n",
    "    name = fullname.rsplit('.', 1)[-1]\n",
    "    if not path:\n",
    "        path = ['']\n",
    "    for d in path:\n",
    "        nb_path = os.path.join(d, name + \".ipynb\")\n",
    "        if os.path.isfile(nb_path):\n",
    "            return nb_path\n",
    "        # let import Notebook_Name find \"Notebook Name.ipynb\"\n",
    "        nb_path = nb_path.replace(\"_\", \" \")\n",
    "        if os.path.isfile(nb_path):\n",
    "            return nb_path"
   ]
  },
  {
   "cell_type": "code",
   "execution_count": 3,
   "metadata": {
    "collapsed": true
   },
   "outputs": [],
   "source": [
    "class NotebookLoader(object):\n",
    "    \"\"\"Module Loader for Jupyter Notebooks\"\"\"\n",
    "    def __init__(self, path=None):\n",
    "        self.shell = InteractiveShell.instance()\n",
    "        self.path = path\n",
    "\n",
    "    def load_module(self, fullname):\n",
    "        \"\"\"import a notebook as a module\"\"\"\n",
    "        path = find_notebook(fullname, self.path)\n",
    "\n",
    "        print (\"importing Jupyter notebook from %s\" % path)\n",
    "\n",
    "        # load the notebook object\n",
    "        with io.open(path, 'r', encoding='utf-8') as f:\n",
    "            nb = read(f, 4)\n",
    "\n",
    "\n",
    "        # create the module and add it to sys.modules\n",
    "        # if name in sys.modules:\n",
    "        #    return sys.modules[name]\n",
    "        mod = types.ModuleType(fullname)\n",
    "        mod.__file__ = path\n",
    "        mod.__loader__ = self\n",
    "        mod.__dict__['get_ipython'] = get_ipython\n",
    "        sys.modules[fullname] = mod\n",
    "\n",
    "        # extra work to ensure that magics that would affect the user_ns\n",
    "        # actually affect the notebook module's ns\n",
    "        save_user_ns = self.shell.user_ns\n",
    "        self.shell.user_ns = mod.__dict__\n",
    "\n",
    "        try:\n",
    "          for cell in nb.cells:\n",
    "            if cell.cell_type == 'code':\n",
    "                # transform the input to executable Python\n",
    "                code = self.shell.input_transformer_manager.transform_cell(cell.source)\n",
    "                # run the code in themodule\n",
    "                exec(code, mod.__dict__)\n",
    "        finally:\n",
    "            self.shell.user_ns = save_user_ns\n",
    "        return mod"
   ]
  },
  {
   "cell_type": "code",
   "execution_count": 4,
   "metadata": {
    "collapsed": true
   },
   "outputs": [],
   "source": [
    "class NotebookFinder(object):\n",
    "    \"\"\"Module finder that locates Jupyter Notebooks\"\"\"\n",
    "    def __init__(self):\n",
    "        self.loaders = {}\n",
    "\n",
    "    def find_module(self, fullname, path=None):\n",
    "        nb_path = find_notebook(fullname, path)\n",
    "        if not nb_path:\n",
    "            return\n",
    "\n",
    "        key = path\n",
    "        if path:\n",
    "            # lists aren't hashable\n",
    "            key = os.path.sep.join(path)\n",
    "\n",
    "        if key not in self.loaders:\n",
    "            self.loaders[key] = NotebookLoader(path)\n",
    "        return self.loaders[key]"
   ]
  },
  {
   "cell_type": "code",
   "execution_count": 5,
   "metadata": {
    "collapsed": true
   },
   "outputs": [],
   "source": [
    "sys.meta_path.append(NotebookFinder())"
   ]
  },
  {
   "cell_type": "markdown",
   "metadata": {},
   "source": [
    "- word2vec 모듈 다운로드가 요구됨"
   ]
  },
  {
   "cell_type": "code",
   "execution_count": 1,
   "metadata": {
    "collapsed": false,
    "scrolled": true
   },
   "outputs": [
    {
     "name": "stderr",
     "output_type": "stream",
     "text": [
      "C:\\Program Files\\Anaconda\\lib\\site-packages\\gensim\\utils.py:862: UserWarning: detected Windows; aliasing chunkize to chunkize_serial\n",
      "  warnings.warn(\"detected Windows; aliasing chunkize to chunkize_serial\")\n"
     ]
    }
   ],
   "source": [
    "import format_module\n",
    "import bookingreview\n",
    "import preprocessreview\n",
    "import wordvectormaker\n",
    "import postag_module\n",
    "import gensim\n",
    "import xl_to_br_module"
   ]
  },
  {
   "cell_type": "markdown",
   "metadata": {},
   "source": [
    "# 데이터 저장"
   ]
  },
  {
   "cell_type": "code",
   "execution_count": 2,
   "metadata": {
    "collapsed": true
   },
   "outputs": [],
   "source": [
    "import pickle\n",
    "\n",
    "def save_object(obj, filename):\n",
    "    with open(filename, 'wb') as output:\n",
    "        pickle.dump(obj, output, pickle.HIGHEST_PROTOCOL)\n",
    "\n",
    "def load_object(filename):\n",
    "    with open(filename, 'rb') as input:\n",
    "        return pickle.load(input)"
   ]
  },
  {
   "cell_type": "markdown",
   "metadata": {},
   "source": [
    "# Main"
   ]
  },
  {
   "cell_type": "code",
   "execution_count": 3,
   "metadata": {
    "collapsed": true
   },
   "outputs": [],
   "source": [
    "def postagModule(xl_name, reviewDB):\n",
    "    BRList = xl_to_br_module.xl_to_BookingReview(xl_name)\n",
    "    reviewDB.add_review_list(BRList)\n",
    "    \n",
    "    PRList_twitter = postag_module.twitter(BRList)\n",
    "    PRList_komoran = postag_module.komoran(BRList)\n",
    "    save_object(PRList_twitter, \"save_PR_twitter.pkl\")\n",
    "    save_object(PRList_komoran, \"save_PR_komoran.pkl\")\n",
    "    save_object(reviewDB, \"save_reviewDB.pkl\")\n",
    "    \n",
    "    return (PRList_twitter, PRList_komoran)"
   ]
  },
  {
   "cell_type": "code",
   "execution_count": 4,
   "metadata": {
    "collapsed": true
   },
   "outputs": [],
   "source": [
    "def embeddingModule(PRList):\n",
    "    word2vec_model = gensim.models.Word2Vec.load('./models/namuwiki_testmodel_Komoran.model')\n",
    "    return wordvectormaker.word2vec_to_PreprocessReview_list(word2vec_model, PRList)"
   ]
  },
  {
   "cell_type": "code",
   "execution_count": 5,
   "metadata": {
    "collapsed": true
   },
   "outputs": [],
   "source": [
    "def formattingModule(PRList, reviewDB):\n",
    "    formatted_list = [format_module.FormattedReview(review) for review in PRList]\n",
    "    save_object(formatted_list, \"save_formatted_review.pkl\")\n",
    "    return formatted_list"
   ]
  },
  {
   "cell_type": "code",
   "execution_count": 6,
   "metadata": {
    "collapsed": true
   },
   "outputs": [],
   "source": [
    "def preprocessModule(xl_name, reviewDB):\n",
    "    (PRList_twitter, PRList_komoran) = postagModule(xl_name, reviewDB)\n",
    "    embeddingModule(PRList_komoran)\n",
    "    formatted_list = formattingModule(PRList_komoran, reviewDB)\n",
    "    \n",
    "    #for temp in formatted_list:\n",
    "    #    print(\"result : \" + temp.__str__())   \n",
    "    return formatted_list"
   ]
  },
  {
   "cell_type": "code",
   "execution_count": 7,
   "metadata": {
    "collapsed": false,
    "scrolled": false
   },
   "outputs": [
    {
     "name": "stdout",
     "output_type": "stream",
     "text": [
      "processing 0 th unit...\n",
      "postagging [twitter] 0 ith unit...\n",
      "postagging [komoran] 0 ith unit...\n",
      "좋겟어여/NA not in vocabulary MAN\n",
      "ㅋㅋ신림점/NA not in vocabulary MAN\n",
      "ㅋㅋㅋㅋ왘ㅋㅋㅋ평가보소/NA not in vocabulary MAN\n",
      "ㅋㅋㅋ이근처굽네가하나라그나마밥벌어먹고사나본데/NA not in vocabulary MAN\n",
      "알바진짜싸가지드럽게없네욬ㅋ주인은착하다뭐다하는데/NA not in vocabulary MAN\n",
      "주인도/NNG not in vocabulary MAN\n",
      "알바도그렇겟죠/NA not in vocabulary MAN\n",
      "나오더라구여...ㅠㅠ/NA not in vocabulary MAN\n",
      "시카고피자/NNP not in vocabulary MAN\n",
      "먹었네욬ㅋ/NA not in vocabulary MAN\n",
      "나타단다는..ㅋㅋ/NA not in vocabulary MAN\n",
      "진짜밋있어용/NA not in vocabulary MAN\n",
      "재밋고잘맞아요/NA not in vocabulary MAN\n",
      "맛있었어욤ㅋㅋㅋㅋㅋ/NA not in vocabulary MAN\n",
      "ㅜㅜㅜ/NA not in vocabulary MAN\n",
      "세븐크래프트/NA not in vocabulary MAN\n",
      "ㅡㅡ가끔/NA not in vocabulary MAN\n",
      "조아욯ㅎㅎ/NA not in vocabulary MAN\n",
      "ㅎㅎ을왕리/NA not in vocabulary MAN\n",
      "갈필요없음ㅋㅋㅋ다먹고남기려고했는데/NA not in vocabulary MAN\n",
      "BBQ치킨/NNP not in vocabulary MAN\n",
      "쫒아내는../NA not in vocabulary MAN\n",
      "ㅋㅋㅋㅋ역시/NA not in vocabulary MAN\n",
      "배달료/NA not in vocabulary MAN\n",
      "갑니당ㅋㅋ진짜추천해욬반지너무이뻐요/NA not in vocabulary MAN\n",
      "ㅋ우리둘만의/NA not in vocabulary MAN\n",
      "쓰레기같음ㅇㅇ/NA not in vocabulary MAN\n",
      "흐!아앟!또먹고싶어욧오/NA not in vocabulary MAN\n",
      "전라됴광쥬에/NA not in vocabulary MAN\n",
      "..어쩌지?ㅎ흣/NA not in vocabulary MAN\n",
      "ㅇㅇㅇㅇㅇㅇㅇㅇㅇㅇㅇㅇㅇㅇㅇㅇㅇㅇㅇ/NA not in vocabulary MAN\n",
      "찔겻엇어요...../NA not in vocabulary MAN\n",
      "좋으셧던분.ㅋㅋㅋㅋㅋㅋㅋㅋㅋㅋ염색머리/NA not in vocabulary MAN\n",
      "크시고.ㅋㅋㅋㅋㅋㅋㅋㅋㅋㅋㅋㅋㅋㅋㅋㅋㅋㅋㅋㅋㅋㅋ아니/NA not in vocabulary MAN\n",
      "햇는데...ㅋㅋㅋㅋ/NA not in vocabulary MAN\n",
      "계셧어욬ㅋㅋㅋㅋㅋㅋ/NA not in vocabulary MAN\n",
      "ㅋㅋㅋ웃겨.ㅋㅋㅋㅋㅋㅋㅋㅋㅋ/NA not in vocabulary MAN\n",
      "웃겨여/NA not in vocabulary MAN\n",
      "하지마랗ㅎ/NA not in vocabulary MAN\n",
      "버벅댔는데/NA not in vocabulary MAN\n",
      "잘도와주샸어요/NA not in vocabulary MAN\n",
      "오래걸럈는데/NA not in vocabulary MAN\n",
      "ㅎㅎㅎ또/NA not in vocabulary MAN\n",
      "만들고싶어욯ㅎㅎㅎ/NA not in vocabulary MAN\n",
      "너무맘에듭니당ㅋㅋ/NA not in vocabulary MAN\n",
      "잘안하는뎋ㅎ/NA not in vocabulary MAN\n",
      "시즈닝까지/NA not in vocabulary MAN\n",
      "맛있었어요ㅠ/NA not in vocabulary MAN\n",
      "ㅠㅠㅠ여러빵들/NA not in vocabulary MAN\n",
      "선생님짱재미써염재밋는추억이엇어용/NA not in vocabulary MAN\n",
      "정말친절하십니닼ㅋ/NA not in vocabulary MAN\n",
      "마음에감동ㅎㅎ/NA not in vocabulary MAN\n",
      "잘못가지만ㅋㅋ/NA not in vocabulary MAN\n",
      "안주맛있기만하던뎈ㅋㅋ좀비이벤트술집인데/NA not in vocabulary MAN\n",
      "원하셨나봉갘ㅋㅋㅋㅋㅋㅋㅋ전체안주다먹어본거같은드립/NA not in vocabulary MAN\n",
      "ㅋㅋㅋㅋ친절하게웃는직원들땜에/NA not in vocabulary MAN\n",
      "됩니요/NA not in vocabulary MAN\n",
      "마싯어요/NA not in vocabulary MAN\n"
     ]
    }
   ],
   "source": [
    "reviewDB = format_module.ReviewDB()\n",
    "format_module.FormattedReview.setDB(reviewDB)\n",
    "formatted_list = preprocessModule(\"Commonreviews_snuproject _test.xlsx\", reviewDB)"
   ]
  },
  {
   "cell_type": "code",
   "execution_count": 8,
   "metadata": {
    "collapsed": false
   },
   "outputs": [
    {
     "name": "stdout",
     "output_type": "stream",
     "text": [
      "(120, 100)\n",
      "(42, 100)\n",
      "(20, 100)\n"
     ]
    }
   ],
   "source": [
    "print(formatted_list[0].context.shape)\n",
    "print(formatted_list[1].context.shape)\n",
    "print(formatted_list[2].context.shape)"
   ]
  },
  {
   "cell_type": "code",
   "execution_count": 12,
   "metadata": {
    "collapsed": false
   },
   "outputs": [
    {
     "ename": "KeyboardInterrupt",
     "evalue": "",
     "output_type": "error",
     "traceback": [
      "\u001b[0;31m---------------------------------------------------------------------------\u001b[0m",
      "\u001b[0;31mKeyboardInterrupt\u001b[0m                         Traceback (most recent call last)",
      "\u001b[0;32m<ipython-input-12-7bac3b734fdc>\u001b[0m in \u001b[0;36m<module>\u001b[0;34m()\u001b[0m\n\u001b[1;32m      5\u001b[0m \u001b[0mreviewList\u001b[0m \u001b[1;33m=\u001b[0m \u001b[1;33m[\u001b[0m\u001b[0mbookingreview\u001b[0m\u001b[1;33m.\u001b[0m\u001b[0mBookingReview\u001b[0m\u001b[1;33m(\u001b[0m\u001b[1;34m\"회사\"\u001b[0m\u001b[1;33m,\u001b[0m \u001b[1;34m\"id\"\u001b[0m\u001b[1;33m,\u001b[0m \u001b[1;36m10\u001b[0m\u001b[1;33m,\u001b[0m \u001b[1;34m\"asdfsadf\"\u001b[0m\u001b[1;33m,\u001b[0m \u001b[1;36m40000.236\u001b[0m\u001b[1;33m+\u001b[0m\u001b[0mi\u001b[0m\u001b[1;33m*\u001b[0m\u001b[1;36m0.001\u001b[0m\u001b[1;33m,\u001b[0m \u001b[1;32mTrue\u001b[0m\u001b[1;33m,\u001b[0m \u001b[0mi\u001b[0m\u001b[1;33m)\u001b[0m \u001b[1;32mfor\u001b[0m \u001b[0mi\u001b[0m \u001b[1;32min\u001b[0m \u001b[0mrange\u001b[0m\u001b[1;33m(\u001b[0m\u001b[1;36m50000\u001b[0m\u001b[1;33m)\u001b[0m\u001b[1;33m]\u001b[0m\u001b[1;33m\u001b[0m\u001b[0m\n\u001b[1;32m      6\u001b[0m \u001b[1;33m\u001b[0m\u001b[0m\n\u001b[0;32m----> 7\u001b[0;31m \u001b[0mreviewDB\u001b[0m\u001b[1;33m.\u001b[0m\u001b[0madd_review_list\u001b[0m\u001b[1;33m(\u001b[0m\u001b[0mreviewList\u001b[0m\u001b[1;33m)\u001b[0m\u001b[1;33m\u001b[0m\u001b[0m\n\u001b[0m\u001b[1;32m      8\u001b[0m \u001b[0mreviewDB\u001b[0m\u001b[1;33m.\u001b[0m\u001b[0msize\u001b[0m\u001b[1;33m(\u001b[0m\u001b[1;33m)\u001b[0m\u001b[1;33m\u001b[0m\u001b[0m\n",
      "\u001b[0;32mD:\\Users\\현도\\Documents\\수업자료\\창의적 통합 설계에\\CID_K\\Preprocessor\\format_module.ipynb\u001b[0m in \u001b[0;36madd_review_list\u001b[0;34m(self, bookingReview_list)\u001b[0m\n",
      "\u001b[0;32mD:\\Users\\현도\\Documents\\수업자료\\창의적 통합 설계에\\CID_K\\Preprocessor\\format_module.ipynb\u001b[0m in \u001b[0;36minsert\u001b[0;34m(self, val)\u001b[0m\n",
      "\u001b[0;32mD:\\Users\\현도\\Documents\\수업자료\\창의적 통합 설계에\\CID_K\\Preprocessor\\format_module.ipynb\u001b[0m in \u001b[0;36minsert_node\u001b[0;34m(self, currentNode, val)\u001b[0m\n",
      "\u001b[0;31mKeyboardInterrupt\u001b[0m: "
     ]
    }
   ],
   "source": [
    "import bookingreview\n",
    "import format_module\n",
    "\n",
    "reviewDB = format_module.ReviewDB()\n",
    "reviewList = [bookingreview.BookingReview(\"회사\", \"id\", 10, \"asdfsadf\", 40000.236+i*0.001, True, i) for i in range(50000)]\n",
    "\n",
    "reviewDB.add_review_list(reviewList)\n",
    "reviewDB.size()"
   ]
  },
  {
   "cell_type": "code",
   "execution_count": null,
   "metadata": {
    "collapsed": true
   },
   "outputs": [],
   "source": []
  }
 ],
 "metadata": {
  "kernelspec": {
   "display_name": "Python 3",
   "language": "python",
   "name": "python3"
  },
  "language_info": {
   "codemirror_mode": {
    "name": "ipython",
    "version": 3
   },
   "file_extension": ".py",
   "mimetype": "text/x-python",
   "name": "python",
   "nbconvert_exporter": "python",
   "pygments_lexer": "ipython3",
   "version": "3.6.1"
  }
 },
 "nbformat": 4,
 "nbformat_minor": 2
}
