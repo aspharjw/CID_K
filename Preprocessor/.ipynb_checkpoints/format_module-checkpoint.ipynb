{
 "cells": [
  {
   "cell_type": "code",
   "execution_count": 278,
   "metadata": {
    "collapsed": true
   },
   "outputs": [],
   "source": [
    "import numpy as np\n",
    "from scipy import spatial"
   ]
  },
  {
   "cell_type": "markdown",
   "metadata": {},
   "source": [
    "# BookingReview interface"
   ]
  },
  {
   "cell_type": "markdown",
   "metadata": {
    "collapsed": true
   },
   "source": [
    "class BookingReview(object):\n",
    "    def __init__(self, company, id, rate, context, post_time, label,\n",
    "                 review_id):\n",
    "        self.company = company\n",
    "        self.id = id\n",
    "        self.rate = rate\n",
    "        self.context = context\n",
    "        self.post_time = post_time\n",
    "        self.label = label\n",
    "        self.review_id = review_id\n",
    "        \n",
    "        self.db_node = None\n",
    "        \n",
    "    def __str__(self):\n",
    "        return (\"BookingReview object {6}:\\n\"\n",
    "                \"  Company name = {0}\\n\"\n",
    "                \"  ID = {1}\\n\"\n",
    "                \"  Rating = {2}\\n\"\n",
    "                \"  Current Context = {3}\\n\"\n",
    "                \"  Post time = {4}\\n\"\n",
    "                \"  Spam/Ham = {5}\\n\"\n",
    "                .format(self.company, self.id, self.rate,\n",
    "                        self.context, self.post_time, self.label,\n",
    "                        self.review_id))\n",
    "    \n",
    "    def __lt__(self, cmp):\n",
    "        if(self.id > cmp.id):\n",
    "            return False\n",
    "        elif(self.id < cmp.id):\n",
    "            return True\n",
    "        elif(self.post_time > cmp.post_time):\n",
    "            return False\n",
    "        else:\n",
    "            return True"
   ]
  },
  {
   "cell_type": "markdown",
   "metadata": {},
   "source": [
    "# PreprocessReview interface"
   ]
  },
  {
   "cell_type": "markdown",
   "metadata": {
    "collapsed": true
   },
   "source": [
    "class PreprocessReview(object):\n",
    "    def __init__(self, company_postag, company_word2vec, context_postag, context_word2vec, \n",
    "                 id, rate, context, post_time, label, review_id):\n",
    "        self.company_postag = company_postag\n",
    "        self.company_word2vec = company_word2vec\n",
    "        self.context_postag = context_postag\n",
    "        self.context_word2vec = context_word2vec\n",
    "        \n",
    "        self.id = id\n",
    "        self.rate = rate\n",
    "        self.post_time = post_time\n",
    "        self.label = label\n",
    "        self.review_id = review_id\n",
    "        \n",
    "        self.db_node = None\n",
    "        \n",
    "    def __str__(self):\n",
    "        return \"PreprocessReview object:\\n\""
   ]
  },
  {
   "cell_type": "markdown",
   "metadata": {},
   "source": [
    "# Implementation of ReviewDB"
   ]
  },
  {
   "cell_type": "code",
   "execution_count": 5,
   "metadata": {
    "collapsed": true
   },
   "outputs": [],
   "source": [
    "class ReviewNode:\n",
    "    def __init__(self, val, parent):\n",
    "        self.val = val\n",
    "        self.leftChild = None\n",
    "        self.rightChild = None\n",
    "        self.parent = parent\n",
    "        \n",
    "        val.db_node = self\n",
    "    \n",
    "    def get(self):\n",
    "        return self.val\n",
    "    \n",
    "    def set(self, val):\n",
    "        self.val = val\n",
    "        \n",
    "    def max_value(self):\n",
    "        current = self\n",
    "        \n",
    "        while(current is not None):\n",
    "            if current.rightChild is None:\n",
    "                break\n",
    "            current = current.rightChild\n",
    "            \n",
    "        return current\n",
    "    \n",
    "    def previous_node(self, num = 1):\n",
    "        if(num == 0):\n",
    "            return self\n",
    "        \n",
    "        if self.leftChild is not None:\n",
    "            return self.leftChild.max_value().previous_node(num-1)\n",
    "        \n",
    "        n = self\n",
    "        p = self.parent\n",
    "        while(p is not None):\n",
    "            if n != p.leftChild:\n",
    "                break\n",
    "            n = p\n",
    "            p = p.parent\n",
    "            \n",
    "        if p is None:\n",
    "            return None\n",
    "        \n",
    "        return p.previous_node(num-1)\n",
    "\n",
    "    def __str__(self):     \n",
    "        return \"ReviewNode - \"+self.val.__str__() + '\\n'\n",
    "    \n",
    "        \n",
    "class ReviewTree:\n",
    "    def __init__(self):\n",
    "        self.root = None\n",
    "\n",
    "    def set_root(self, val):\n",
    "        self.root = ReviewNode(val, None)\n",
    "\n",
    "    def insert(self, val):\n",
    "        if(self.root is None):\n",
    "            self.set_root(val)\n",
    "        else:\n",
    "            self.insert_node(self.root, val)\n",
    "\n",
    "    def insert_node(self, currentNode, val):\n",
    "        if(val < currentNode.val):\n",
    "            if(currentNode.leftChild != None):\n",
    "                self.insert_node(currentNode.leftChild, val)\n",
    "            else:\n",
    "                currentNode.leftChild = ReviewNode(val, currentNode)\n",
    "        else:\n",
    "            if(currentNode.rightChild != None):\n",
    "                self.insert_node(currentNode.rightChild, val)\n",
    "            else:\n",
    "                currentNode.rightChild = ReviewNode(val, currentNode)\n",
    "                \n",
    "                \n",
    "    def __str__(self):\n",
    "        if self.root is None:\n",
    "            return \"empty\"\n",
    "        \n",
    "        return self.to_str(self.root)\n",
    "    \n",
    "    def to_str(self, node):\n",
    "        string = \"\"\n",
    "        if node.leftChild is not None:\n",
    "            string = string + self.to_str(node.leftChild)\n",
    "        \n",
    "        string = string + node.__str__() + '\\n'\n",
    "        \n",
    "        if node.rightChild is not None:\n",
    "            string = string + self.to_str(node.rightcompanyChild)\n",
    "        \n",
    "        return string"
   ]
  },
  {
   "cell_type": "code",
   "execution_count": 6,
   "metadata": {
    "collapsed": false
   },
   "outputs": [],
   "source": [
    "class ReviewDB(object):\n",
    "    def __init__(self):\n",
    "        self.review_dict = {}\n",
    "        self.review_tree = ReviewTree()\n",
    "        self.id_dict = {}\n",
    "    \n",
    "    def add_review_list(self, bookingReview_list):\n",
    "        for review in bookingReview_list:\n",
    "            if not (review.review_id in self.review_dict):\n",
    "                self.review_dict[review.review_id] = review\n",
    "                self.review_tree.insert(review)\n",
    "                \n",
    "                if not (review.id in self.id_dict):\n",
    "                    self.id_dict[review.id] = len(self.id_dict)\n",
    "                \n",
    "    def add_review(self, bookingReview):\n",
    "        if not (bookingReview.review_id in self.review_dict):\n",
    "            self.review_dict[bookingReview.review_id] = bookingReview\n",
    "            self.review_tree.insert(bookingReview)      \n",
    "        \n",
    "    def get_review(self, review_id):\n",
    "        if (review_id in self.review_dict):\n",
    "            return self.review_dict[review_id]\n",
    "        \n",
    "    def get_id_to_int(self, id):\n",
    "        if (id in id_dict):\n",
    "            return id_dict[id]\n",
    "                \n",
    "    def size(self):\n",
    "        return len(self.review_dict)\n",
    "    \n",
    "    def __str__(self):\n",
    "        return self.review_tree.__str__()"
   ]
  },
  {
   "cell_type": "markdown",
   "metadata": {},
   "source": [
    "# Implementation of FormattedReview"
   ]
  },
  {
   "cell_type": "code",
   "execution_count": 7,
   "metadata": {
    "collapsed": false
   },
   "outputs": [],
   "source": [
    "class FormattedReview(object):\n",
    "    reviewDB = None\n",
    "    def __init__(self, preprocessReview):\n",
    "        \n",
    "        bookingReview = preprocessReview.dbNode.val\n",
    "        \n",
    "        self.context = preprocessReview.context\n",
    "        self.calc_comp_similarity(preprocessReview)\n",
    "        self.rate = preprocessReview.rate / 10\n",
    "        self.reiteration_context = self.calc_reiteration_context(bookingReview)\n",
    "        self.reiteration_repeat = self.calc_reiteration_repeat(bookingReview)\n",
    "        self.post_time = preprocessReview.post_time % 1\n",
    "        self.post_vip = (int(preprocessReview.post_time) % 7) / 7\n",
    "        \n",
    "        #임시로. TODO\n",
    "        self.id = reviewDB.get_id_to_int/10000\n",
    "        \n",
    "        self.label = preprocessReview.label\n",
    "        self.review_id = preprocessReview.review_id\n",
    "    \n",
    "    def calc_comp_similarity(self, preprocessReview):\n",
    "        max_sim = -1;\n",
    "        for company_vec in preprocessReview.company:\n",
    "            for context_vec in preprocessReview.context:\n",
    "                cos_sim = 1 - spatial.distance.cosine(company_vec, context_vec)\n",
    "                max_sim = max_sim if (max_sim > cos_sim) else cos_sim\n",
    "        \n",
    "        self.comp_similarity = max_sim\n",
    "    \n",
    "    def calc_reiteration_context(self, bookingReview, num = 1):\n",
    "        if num > 10:         # reiteration_context 최대 수치는 1\n",
    "            return 0\n",
    "        \n",
    "        prev_review = bookingReview.db_node.previous_node(num)\n",
    "        if prev_review is None:\n",
    "            return 0\n",
    "\n",
    "        prev_review = prev_review.val\n",
    "        \n",
    "        if(prev_review.id == bookingReview.id     #리뷰어 동일\n",
    "               and prev_review.context == bookingReview.context   #텍스트 내용 동일\n",
    "               and bookingReview.post_time - prev_review.post_time < 30):   #한달 이내 작성\n",
    "            return 0.1 + self.calc_reiteration_context(bookingReview, num+1)\n",
    "        \n",
    "        \n",
    "    def calc_reiteration_repeat(self, bookingReview, num = 1):     \n",
    "        prev_review = bookingReview.db_node.previous_node(num)\n",
    "        if prev_review is None:\n",
    "            return 0\n",
    "\n",
    "        prev_review = prev_review.val\n",
    "        \n",
    "        if(prev_review.company == bookingReview.company      #업체명 동일\n",
    "               and prev_review.id == bookingReview.id):     #리뷰어 동일\n",
    "            \n",
    "            time_diff = bookingReview.post_time - prev_review.post_time\n",
    "            \n",
    "            if(time_diff < 1): #하루 이내 작성\n",
    "                val = 0.1+self.calc_reiteration_repeat(bookingReview, num+1)\n",
    "            \n",
    "            elif(time_diff < 365): #1년 이내 작성\n",
    "                val = 0.1*time_diff/365+self.calc_reiteration_repeat(bookingReview, num+1)\n",
    "            \n",
    "            else:\n",
    "                val = 0.1\n",
    "                \n",
    "            return val if val<1.0 else 1.0\n",
    "        \n",
    "        else:\n",
    "            return 0\n",
    "    \n",
    "    def __str__(self):\n",
    "        return (\"FormattedReview object {0}:\\n\"\n",
    "                \"  context = \\n{1}\\n\"\n",
    "                \"  comp_similarity = {2}\\n\"\n",
    "                \"  rate = {3}\\n\"\n",
    "                \"  reiteration_context = {4}\\n\"\n",
    "                \"  reiteration_repeat = {5}\\n\"\n",
    "                \"  post_time = {6}\\n\"\n",
    "                \"  post_vip = {7}\\n\"\n",
    "                \"  label = {8}\\n\"\n",
    "                .format(self.review_id, self.context, self.comp_similarity,\n",
    "                        self.rate, self.reiteration_context, self.reiteration_repeat,\n",
    "                        self.post_time, self.post_vip, self.label))\n"
   ]
  },
  {
   "cell_type": "markdown",
   "metadata": {},
   "source": [
    "# 리뷰 생성 테스트 코드"
   ]
  },
  {
   "cell_type": "markdown",
   "metadata": {
    "collapsed": false
   },
   "source": [
    "test_review = BookingReview(\"회사\", \"asdf\", 10, \"너무 맛있어용\", 400000, 0, 1)\n",
    "#print(test_review)\n",
    "\n",
    "company = np.array([[0,1,2,3,4,5,6,7,8,9], [10,11,12,13,14,15,16,17,18,19]])\n",
    "context = np.array([[10,11,12,13,14,15,16,17,15,19], [9,8,7,6,5,4,3,2,1,0], [2,7,4,6,8,1,7,4,8,3]])\n",
    "                    \n",
    "test_review1 = BookingReview(company, \"asdf\", 8, context, 400000.26436, 0, 1)\n",
    "#print(test_review2)\n",
    "#print(test_review2.post_time)\n",
    "\n",
    "test_list = [test_review1]\n",
    "\n",
    "\n",
    "test_list.append(BookingReview(company+2, \"2222\", 2, context+9, 400001.22222, 0, 2))\n",
    "test_list.append(BookingReview(company+2, \"2222\", 3, context+8, 400001.33333, 0, 3))\n",
    "test_list.append(BookingReview(company+2, \"2222\", 4, context+7, 400001.44432, 0, 4))\n",
    "test_list.append(BookingReview(company+5, \"5555\", 5, context+6, 400236.55622, 1, 5))\n",
    "test_list.append(BookingReview(company+6, \"7777\", 6, context+5, 400348.66232, 0, 6))\n",
    "test_list.append(BookingReview(company+6, \"7777\", 7, context+4, 400347.77482, 1, 7))\n",
    "test_list.append(BookingReview(company+8, \"5555\", 8, context+3, 400236.88592, 0, 8))\n",
    "test_list.append(BookingReview(company+2, \"2222\", 9, context+2, 400457.99922, 1, 9))\n",
    "test_list.append(BookingReview(company+10, \"asdf\", 10, context+1, 399910.02642, 0, 10))\n",
    "\n",
    "'''\n",
    "for item in test_list:\n",
    "print(item)\n",
    "'''\n",
    "\n",
    "reviewDB = ReviewDB()\n",
    "reviewDB.add_review_list(test_list)"
   ]
  },
  {
   "cell_type": "markdown",
   "metadata": {},
   "source": [
    "# 지금은 작동 안하는 테스트 코드"
   ]
  },
  {
   "cell_type": "markdown",
   "metadata": {
    "collapsed": false
   },
   "source": [
    "FormattedReview.reviewDB = reviewDB\n",
    "\n",
    "test = [FormattedReview(review) for review in test_list]\n",
    "\n",
    "for item in test:\n",
    "    print(item)\n",
    "    \n",
    "#print(\"\\nreviewDB - \\n\")\n",
    "#print(reviewDB)"
   ]
  },
  {
   "cell_type": "markdown",
   "metadata": {
    "collapsed": true
   },
   "source": [
    "# 데이터 저장"
   ]
  },
  {
   "cell_type": "code",
   "execution_count": 8,
   "metadata": {
    "collapsed": true
   },
   "outputs": [],
   "source": [
    "import pickle\n",
    "\n",
    "def save_object(obj, filename):\n",
    "    with open(filename, 'wb') as output:\n",
    "        pickle.dump(obj, output, pickle.HIGHEST_PROTOCOL)\n",
    "\n",
    "def load_object(filename):\n",
    "    with open(filename, 'rb') as input:\n",
    "        return pickle.load(input)"
   ]
  }
 ],
 "metadata": {
  "kernelspec": {
   "display_name": "Python 3",
   "language": "python",
   "name": "python3"
  },
  "language_info": {
   "codemirror_mode": {
    "name": "ipython",
    "version": 3
   },
   "file_extension": ".py",
   "mimetype": "text/x-python",
   "name": "python",
   "nbconvert_exporter": "python",
   "pygments_lexer": "ipython3",
   "version": "3.6.1"
  }
 },
 "nbformat": 4,
 "nbformat_minor": 2
}
