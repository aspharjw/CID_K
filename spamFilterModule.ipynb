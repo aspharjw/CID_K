{
 "cells": [
  {
   "cell_type": "code",
   "execution_count": 1,
   "metadata": {
    "collapsed": true
   },
   "outputs": [],
   "source": [
    "import io, os, sys, types\n",
    "from IPython import get_ipython\n",
    "from nbformat import read\n",
    "from IPython.core.interactiveshell import InteractiveShell\n",
    "\n",
    "def find_notebook(fullname, path=None):\n",
    "    \"\"\"find a notebook, given its fully qualified name and an optional path\n",
    "\n",
    "    This turns \"foo.bar\" into \"foo/bar.ipynb\"\n",
    "    and tries turning \"Foo_Bar\" into \"Foo Bar\" if Foo_Bar\n",
    "    does not exist.\n",
    "    \"\"\"\n",
    "    name = fullname.rsplit('.', 1)[-1]\n",
    "    if not path:\n",
    "        path = ['']\n",
    "    for d in path:\n",
    "        nb_path = os.path.join(d, name + \".ipynb\")\n",
    "        if os.path.isfile(nb_path):\n",
    "            return nb_path\n",
    "        # let import Notebook_Name find \"Notebook Name.ipynb\"\n",
    "        nb_path = nb_path.replace(\"_\", \" \")\n",
    "        if os.path.isfile(nb_path):\n",
    "            return nb_path\n",
    "        \n",
    "class NotebookLoader(object):\n",
    "    \"\"\"Module Loader for Jupyter Notebooks\"\"\"\n",
    "    def __init__(self, path=None):\n",
    "        self.shell = InteractiveShell.instance()\n",
    "        self.path = path\n",
    "\n",
    "    def load_module(self, fullname):\n",
    "        \"\"\"import a notebook as a module\"\"\"\n",
    "        path = find_notebook(fullname, self.path)\n",
    "\n",
    "        print (\"importing Jupyter notebook from %s\" % path)\n",
    "\n",
    "        # load the notebook object\n",
    "        with io.open(path, 'r', encoding='utf-8') as f:\n",
    "            nb = read(f, 4)\n",
    "\n",
    "\n",
    "        # create the module and add it to sys.modules\n",
    "        # if name in sys.modules:\n",
    "        #    return sys.modules[name]\n",
    "        mod = types.ModuleType(fullname)\n",
    "        mod.__file__ = path\n",
    "        mod.__loader__ = self\n",
    "        mod.__dict__['get_ipython'] = get_ipython\n",
    "        sys.modules[fullname] = mod\n",
    "\n",
    "        # extra work to ensure that magics that would affect the user_ns\n",
    "        # actually affect the notebook module's ns\n",
    "        save_user_ns = self.shell.user_ns\n",
    "        self.shell.user_ns = mod.__dict__\n",
    "\n",
    "        try:\n",
    "          for cell in nb.cells:\n",
    "            if cell.cell_type == 'code':\n",
    "                # transform the input to executable Python\n",
    "                code = self.shell.input_transformer_manager.transform_cell(cell.source)\n",
    "                # run the code in themodule\n",
    "                exec(code, mod.__dict__)\n",
    "        finally:\n",
    "            self.shell.user_ns = save_user_ns\n",
    "        return mod\n",
    "    \n",
    "class NotebookFinder(object):\n",
    "    \"\"\"Module finder that locates Jupyter Notebooks\"\"\"\n",
    "    def __init__(self):\n",
    "        self.loaders = {}\n",
    "\n",
    "    def find_module(self, fullname, path=None):\n",
    "        nb_path = find_notebook(fullname, path)\n",
    "        if not nb_path:\n",
    "            return\n",
    "\n",
    "        key = path\n",
    "        if path:\n",
    "            # lists aren't hashable\n",
    "            key = os.path.sep.join(path)\n",
    "\n",
    "        if key not in self.loaders:\n",
    "            self.loaders[key] = NotebookLoader(path)\n",
    "        return self.loaders[key]\n",
    "    \n",
    "sys.meta_path.append(NotebookFinder())"
   ]
  },
  {
   "cell_type": "code",
   "execution_count": 3,
   "metadata": {
    "collapsed": false
   },
   "outputs": [
    {
     "name": "stdout",
     "output_type": "stream",
     "text": [
      "Collecting gensim\n",
      "  Downloading gensim-3.2.0-cp36-cp36m-manylinux1_x86_64.whl (15.9MB)\n",
      "\u001b[K    100% |████████████████████████████████| 15.9MB 93kB/s  eta 0:00:01\n",
      "\u001b[?25hRequirement already satisfied: numpy>=1.11.3 in /usr/local/lib/python3.6/site-packages (from gensim)\n",
      "Requirement already satisfied: six>=1.5.0 in /usr/local/lib/python3.6/site-packages (from gensim)\n",
      "Requirement already satisfied: scipy>=0.18.1 in /usr/local/lib/python3.6/site-packages (from gensim)\n",
      "Collecting smart-open>=1.2.1 (from gensim)\n",
      "  Downloading smart_open-1.5.5.tar.gz\n",
      "Collecting boto>=2.32 (from smart-open>=1.2.1->gensim)\n",
      "  Downloading boto-2.48.0-py2.py3-none-any.whl (1.4MB)\n",
      "\u001b[K    100% |████████████████████████████████| 1.4MB 1.1MB/s eta 0:00:01\n",
      "\u001b[?25hCollecting bz2file (from smart-open>=1.2.1->gensim)\n",
      "  Downloading bz2file-0.98.tar.gz\n",
      "Requirement already satisfied: requests in /usr/local/lib/python3.6/site-packages (from smart-open>=1.2.1->gensim)\n",
      "Collecting boto3 (from smart-open>=1.2.1->gensim)\n",
      "  Downloading boto3-1.4.8-py2.py3-none-any.whl (128kB)\n",
      "\u001b[K    100% |████████████████████████████████| 133kB 7.8MB/s eta 0:00:01\n",
      "\u001b[?25hCollecting botocore<1.9.0,>=1.8.0 (from boto3->smart-open>=1.2.1->gensim)\n",
      "  Downloading botocore-1.8.13-py2.py3-none-any.whl (4.0MB)\n",
      "\u001b[K    100% |████████████████████████████████| 4.0MB 387kB/s eta 0:00:01\n",
      "\u001b[?25hCollecting s3transfer<0.2.0,>=0.1.10 (from boto3->smart-open>=1.2.1->gensim)\n",
      "  Downloading s3transfer-0.1.12-py2.py3-none-any.whl (59kB)\n",
      "\u001b[K    100% |████████████████████████████████| 61kB 8.9MB/s eta 0:00:01\n",
      "\u001b[?25hCollecting jmespath<1.0.0,>=0.7.1 (from boto3->smart-open>=1.2.1->gensim)\n",
      "  Downloading jmespath-0.9.3-py2.py3-none-any.whl\n",
      "Collecting docutils>=0.10 (from botocore<1.9.0,>=1.8.0->boto3->smart-open>=1.2.1->gensim)\n",
      "  Downloading docutils-0.14-py3-none-any.whl (543kB)\n",
      "\u001b[K    100% |████████████████████████████████| 552kB 2.7MB/s eta 0:00:01\n",
      "\u001b[?25hRequirement already satisfied: python-dateutil<3.0.0,>=2.1 in /usr/local/lib/python3.6/site-packages (from botocore<1.9.0,>=1.8.0->boto3->smart-open>=1.2.1->gensim)\n",
      "Building wheels for collected packages: smart-open, bz2file\n",
      "  Running setup.py bdist_wheel for smart-open ... \u001b[?25ldone\n",
      "\u001b[?25h  Stored in directory: /root/.cache/pip/wheels/ed/64/56/a922ace26f5d32090849ec8d89192b2b9ff0d280a5be0a4b7b\n",
      "  Running setup.py bdist_wheel for bz2file ... \u001b[?25ldone\n",
      "\u001b[?25h  Stored in directory: /root/.cache/pip/wheels/31/9c/20/996d65ca104cbca940b1b053299b68459391c01c774d073126\n",
      "Successfully built smart-open bz2file\n",
      "Installing collected packages: boto, bz2file, docutils, jmespath, botocore, s3transfer, boto3, smart-open, gensim\n",
      "Successfully installed boto-2.48.0 boto3-1.4.8 botocore-1.8.13 bz2file-0.98 docutils-0.14 gensim-3.2.0 jmespath-0.9.3 s3transfer-0.1.12 smart-open-1.5.5\n",
      "Collecting konlpy\n",
      "  Downloading konlpy-0.4.4-py2.py3-none-any.whl (22.5MB)\n",
      "\u001b[K    100% |████████████████████████████████| 22.5MB 66kB/s  eta 0:00:01\n",
      "\u001b[?25hInstalling collected packages: konlpy\n",
      "Successfully installed konlpy-0.4.4\n",
      "Collecting jtypes.jpype\n",
      "  Downloading jtypes.jpype-0.6.2b1.zip (404kB)\n",
      "\u001b[K    100% |████████████████████████████████| 409kB 2.3MB/s ta 0:00:01\n",
      "\u001b[?25hCollecting setuptools>=30.4.0 (from jtypes.jpype)\n",
      "  Downloading setuptools-38.2.4-py2.py3-none-any.whl (489kB)\n",
      "\u001b[K    100% |████████████████████████████████| 491kB 1.9MB/s eta 0:00:01\n",
      "\u001b[?25hBuilding wheels for collected packages: jtypes.jpype\n",
      "  Running setup.py bdist_wheel for jtypes.jpype ... \u001b[?25ldone\n",
      "\u001b[?25h  Stored in directory: /root/.cache/pip/wheels/d6/00/bd/21ac27e59d1c2a3240fab267533410c3e96def42c7a2e44e99\n",
      "Successfully built jtypes.jpype\n",
      "Installing collected packages: setuptools, jtypes.jpype\n",
      "  Found existing installation: setuptools 36.4.0\n",
      "    Uninstalling setuptools-36.4.0:\n",
      "      Successfully uninstalled setuptools-36.4.0\n",
      "Successfully installed jtypes.jpype-0.6.2b1 setuptools-38.2.4\n",
      "Collecting JPype1-py3\n",
      "  Downloading JPype1-py3-0.5.5.2.tar.gz (87kB)\n",
      "\u001b[K    100% |████████████████████████████████| 92kB 3.9MB/s ta 0:00:011\n",
      "\u001b[?25hBuilding wheels for collected packages: JPype1-py3\n",
      "  Running setup.py bdist_wheel for JPype1-py3 ... \u001b[?25ldone\n",
      "\u001b[?25h  Stored in directory: /root/.cache/pip/wheels/a9/16/9c/8bdf97ca3bfbc79d9b1214c95e410de81b53d1fda9e4676669\n",
      "Successfully built JPype1-py3\n",
      "Installing collected packages: JPype1-py3\n",
      "Successfully installed JPype1-py3-0.5.5.2\n",
      "Collecting xlrd\n",
      "  Downloading xlrd-1.1.0-py2.py3-none-any.whl (108kB)\n",
      "\u001b[K    100% |████████████████████████████████| 112kB 2.4MB/s ta 0:00:01\n",
      "\u001b[?25hInstalling collected packages: xlrd\n",
      "Successfully installed xlrd-1.1.0\n",
      "Requirement already satisfied: pydblite in /usr/local/lib/python3.6/site-packages\n",
      "Collecting psutil\n",
      "  Downloading psutil-5.4.2.tar.gz (411kB)\n",
      "\u001b[K    100% |████████████████████████████████| 419kB 2.6MB/s ta 0:00:01\n",
      "\u001b[?25hBuilding wheels for collected packages: psutil\n",
      "  Running setup.py bdist_wheel for psutil ... \u001b[?25ldone\n",
      "\u001b[?25h  Stored in directory: /root/.cache/pip/wheels/62/36/0b/55b377328e81ae7345cd9a4b7b9d90c423c6cfad7d9c9b08b0\n",
      "Successfully built psutil\n",
      "Installing collected packages: psutil\n",
      "Successfully installed psutil-5.4.2\n"
     ]
    }
   ],
   "source": [
    "!pip install gensim\n",
    "!pip3 install konlpy\n",
    "!pip install --upgrade jtypes.jpype\n",
    "!pip3 install JPype1-py3\n",
    "!pip install xlrd\n",
    "!pip install pydblite\n",
    "!pip install psutil"
   ]
  },
  {
   "cell_type": "code",
   "execution_count": 4,
   "metadata": {
    "collapsed": true
   },
   "outputs": [],
   "source": [
    "import torch\n",
    "import torch.nn as nn\n",
    "from torch.autograd import Variable   \n",
    "from torch import optim\n",
    "import numpy as np\n",
    "import sys\n",
    "\n",
    "sys.path.append(\"./Preprocessor\")\n",
    "sys.path.append(\"./Classifier\")\n",
    "sys.path.append('./Preprocessor/soy')\n",
    "from Classifier.classifierModule import *\n",
    "from Preprocessor.preprocessorModule import *\n",
    "from Preprocessor.format_module import *"
   ]
  },
  {
   "cell_type": "code",
   "execution_count": 5,
   "metadata": {
    "collapsed": true
   },
   "outputs": [],
   "source": [
    "learning_rate = 0.005\n",
    "input_size = 100  # word2vec k size\n",
    "batch_size = 500\n",
    "n_epochs = 40"
   ]
  },
  {
   "cell_type": "code",
   "execution_count": 6,
   "metadata": {
    "collapsed": true
   },
   "outputs": [],
   "source": [
    "reviewDB = ReviewDB(\"./Preprocessor/pkl/train\")\n",
    "format_module.FormattedReview.setDB(reviewDB)\n",
    "FRlist = load_object(\"./Preprocessor/pkl/save_formatted_review_train.pkl\")[:100]\n",
    "model = classifierModule(input_size, batch_size, FRlist, \"./Classifier/models/spam_filter.mdl\")"
   ]
  },
  {
   "cell_type": "code",
   "execution_count": 7,
   "metadata": {
    "collapsed": true
   },
   "outputs": [],
   "source": [
    "def spamFilterModule(input_path, validation_path = None, sensitivity = 0.5, run_mode = 'default'):\n",
    "    \n",
    "    if(validation_path == None):\n",
    "        formatted_review_list = preprocessModule(input_path, reviewDB, \"test\")\n",
    "        out = model(formatted_review_list, None,run_mode)        \n",
    "        tg = get_targets(formatted_review_list, model)\n",
    "        _, formatted, _ = model.encoder(formatted_review_list)\n",
    "        print()\n",
    "        print(\"############# print test accuracy and infer results for each ##############\")\n",
    "        print(100 * get_accuracy(out, tg, 0.5)/len(formatted_review_list))\n",
    "        for i in range(500):\n",
    "            acc = get_accuracy(out[i:i+1], tg[i:i+1], 0.5)\n",
    "            if tg.data[i]:\n",
    "                print(\"            \",out.data[i, 1], tg.data[i], acc)\n",
    "            else:\n",
    "                print(out.data[i, 1], tg.data[i], acc)\n",
    "            print(\"no excel for validation.. abort training\")\n",
    "            return\n",
    "        \n",
    "    else:\n",
    "        formatted_review_list_for_training = preprocessModule(input_path, reviewDB, \"train\")\n",
    "        formatted_review_list_for_validating = preprocessModule(validation_path, reviewDB, \"validation\")\n",
    "        train_net(formatted_review_list_for_training, formatted_review_list_for_validating, model, reviewDB, sensitivity, run_mode)\n",
    "        "
   ]
  },
  {
   "cell_type": "code",
   "execution_count": 9,
   "metadata": {
    "collapsed": false
   },
   "outputs": [
    {
     "name": "stdout",
     "output_type": "stream",
     "text": [
      "processing 0 th unit...\n",
      "processing 10000 th unit...\n",
      "processing 20000 th unit...\n",
      "adding review to DB...\n",
      "=> Postag initiated\n",
      "postagging [komoran] 0 ith unit...\n"
     ]
    },
    {
     "ename": "KeyboardInterrupt",
     "evalue": "",
     "output_type": "error",
     "traceback": [
      "\u001b[0;31m---------------------------------------------------------------------------\u001b[0m",
      "\u001b[0;31mKeyboardInterrupt\u001b[0m                         Traceback (most recent call last)",
      "\u001b[0;32m<ipython-input-9-52f785651879>\u001b[0m in \u001b[0;36m<module>\u001b[0;34m()\u001b[0m\n\u001b[0;32m----> 1\u001b[0;31m \u001b[0mspamFilterModule\u001b[0m\u001b[0;34m(\u001b[0m\u001b[0;32mTrue\u001b[0m\u001b[0;34m,\u001b[0m\u001b[0;34m\"./Preprocessor/excel/trainset_spam_ham_1to1.xlsx\"\u001b[0m\u001b[0;34m,\u001b[0m \u001b[0;34m\"./Preprocessor/excel/Commonreviews_snuproject_validation.xlsx\"\u001b[0m\u001b[0;34m)\u001b[0m\u001b[0;34m\u001b[0m\u001b[0m\n\u001b[0m",
      "\u001b[0;32m<ipython-input-7-1184e354e51f>\u001b[0m in \u001b[0;36mspamFilterModule\u001b[0;34m(train_or_not, input_excel_file_path, input_excel_file_for_validation_path, sensitivity, run_mode)\u001b[0m\n\u001b[1;32m      6\u001b[0m             \u001b[0;32mreturn\u001b[0m\u001b[0;34m\u001b[0m\u001b[0m\n\u001b[1;32m      7\u001b[0m         \u001b[0;32melse\u001b[0m\u001b[0;34m:\u001b[0m\u001b[0;34m\u001b[0m\u001b[0m\n\u001b[0;32m----> 8\u001b[0;31m             \u001b[0mformatted_review_list_for_training\u001b[0m \u001b[0;34m=\u001b[0m \u001b[0mpreprocessModule\u001b[0m\u001b[0;34m(\u001b[0m\u001b[0minput_excel_file_path\u001b[0m\u001b[0;34m,\u001b[0m \u001b[0mreviewDB\u001b[0m\u001b[0;34m,\u001b[0m \u001b[0;34m\"train\"\u001b[0m\u001b[0;34m)\u001b[0m\u001b[0;34m\u001b[0m\u001b[0m\n\u001b[0m\u001b[1;32m      9\u001b[0m             \u001b[0mformatted_review_list_for_validating\u001b[0m \u001b[0;34m=\u001b[0m \u001b[0mpreprocessModule\u001b[0m\u001b[0;34m(\u001b[0m\u001b[0minput_excel_file_for_validation_path\u001b[0m\u001b[0;34m,\u001b[0m \u001b[0mreviewDB\u001b[0m\u001b[0;34m,\u001b[0m \u001b[0;34m\"validation\"\u001b[0m\u001b[0;34m)\u001b[0m\u001b[0;34m\u001b[0m\u001b[0m\n\u001b[1;32m     10\u001b[0m             \u001b[0mtrain_net\u001b[0m\u001b[0;34m(\u001b[0m\u001b[0mformatted_review_list_for_training\u001b[0m\u001b[0;34m,\u001b[0m\u001b[0mformatted_review_list_for_validating\u001b[0m\u001b[0;34m,\u001b[0m \u001b[0mmodel\u001b[0m\u001b[0;34m,\u001b[0m \u001b[0mreviewDB\u001b[0m\u001b[0;34m,\u001b[0m \u001b[0msensitivity\u001b[0m\u001b[0;34m,\u001b[0m \u001b[0mrun_mode\u001b[0m\u001b[0;34m)\u001b[0m\u001b[0;34m\u001b[0m\u001b[0m\n",
      "\u001b[0;32m/output/Preprocessor/preprocessorModule.py\u001b[0m in \u001b[0;36mpreprocessModule\u001b[0;34m(xl_name, reviewDB, version)\u001b[0m\n\u001b[1;32m     75\u001b[0m \u001b[0;34m\u001b[0m\u001b[0m\n\u001b[1;32m     76\u001b[0m \u001b[0;32mdef\u001b[0m \u001b[0mpreprocessModule\u001b[0m\u001b[0;34m(\u001b[0m\u001b[0mxl_name\u001b[0m\u001b[0;34m,\u001b[0m \u001b[0mreviewDB\u001b[0m\u001b[0;34m,\u001b[0m \u001b[0mversion\u001b[0m\u001b[0;34m)\u001b[0m\u001b[0;34m:\u001b[0m\u001b[0;34m\u001b[0m\u001b[0m\n\u001b[0;32m---> 77\u001b[0;31m     \u001b[0mPRList\u001b[0m \u001b[0;34m=\u001b[0m \u001b[0mpostagModule\u001b[0m\u001b[0;34m(\u001b[0m\u001b[0mxl_name\u001b[0m\u001b[0;34m,\u001b[0m \u001b[0mreviewDB\u001b[0m\u001b[0;34m)\u001b[0m\u001b[0;34m\u001b[0m\u001b[0m\n\u001b[0m\u001b[1;32m     78\u001b[0m     \u001b[0membeddingModule\u001b[0m\u001b[0;34m(\u001b[0m\u001b[0mPRList\u001b[0m\u001b[0;34m)\u001b[0m\u001b[0;34m\u001b[0m\u001b[0m\n\u001b[1;32m     79\u001b[0m     \u001b[0mformatted_list\u001b[0m \u001b[0;34m=\u001b[0m \u001b[0mformattingModule\u001b[0m\u001b[0;34m(\u001b[0m\u001b[0mPRList\u001b[0m\u001b[0;34m,\u001b[0m \u001b[0mreviewDB\u001b[0m\u001b[0;34m,\u001b[0m \u001b[0mversion\u001b[0m\u001b[0;34m)\u001b[0m\u001b[0;34m\u001b[0m\u001b[0m\n",
      "\u001b[0;32m/output/Preprocessor/preprocessorModule.py\u001b[0m in \u001b[0;36mpostagModule\u001b[0;34m(xl_name, reviewDB, mode)\u001b[0m\n\u001b[1;32m     47\u001b[0m         \u001b[0mPRList\u001b[0m \u001b[0;34m=\u001b[0m \u001b[0mpostag_module\u001b[0m\u001b[0;34m.\u001b[0m\u001b[0mtwitter\u001b[0m\u001b[0;34m(\u001b[0m\u001b[0mBRList\u001b[0m\u001b[0;34m)\u001b[0m\u001b[0;34m\u001b[0m\u001b[0m\n\u001b[1;32m     48\u001b[0m     \u001b[0;32melse\u001b[0m\u001b[0;34m:\u001b[0m\u001b[0;34m\u001b[0m\u001b[0m\n\u001b[0;32m---> 49\u001b[0;31m         \u001b[0mPRList\u001b[0m \u001b[0;34m=\u001b[0m \u001b[0mpostag_module\u001b[0m\u001b[0;34m.\u001b[0m\u001b[0mkomoran\u001b[0m\u001b[0;34m(\u001b[0m\u001b[0mBRList\u001b[0m\u001b[0;34m)\u001b[0m\u001b[0;34m\u001b[0m\u001b[0m\n\u001b[0m\u001b[1;32m     50\u001b[0m         \u001b[0mmode\u001b[0m \u001b[0;34m=\u001b[0m \u001b[0;34m\"komoran\"\u001b[0m\u001b[0;34m\u001b[0m\u001b[0m\n\u001b[1;32m     51\u001b[0m     '''save_object(PRList_twitter, \"save_PR_twitter.pkl\")\n",
      "\u001b[0;32m/output/Preprocessor/postag_module.py\u001b[0m in \u001b[0;36mkomoran\u001b[0;34m(BRList)\u001b[0m\n\u001b[1;32m     12\u001b[0m             \u001b[0mprint\u001b[0m\u001b[0;34m(\u001b[0m\u001b[0;34m\"postagging [komoran] \"\u001b[0m \u001b[0;34m+\u001b[0m \u001b[0mstr\u001b[0m\u001b[0;34m(\u001b[0m\u001b[0mcount\u001b[0m\u001b[0;34m)\u001b[0m \u001b[0;34m+\u001b[0m \u001b[0;34m\" ith unit...\"\u001b[0m\u001b[0;34m)\u001b[0m\u001b[0;34m\u001b[0m\u001b[0m\n\u001b[1;32m     13\u001b[0m         \u001b[0mcount\u001b[0m \u001b[0;34m+=\u001b[0m \u001b[0;36m1\u001b[0m\u001b[0;34m\u001b[0m\u001b[0m\n\u001b[0;32m---> 14\u001b[0;31m         \u001b[0mcompany_postag\u001b[0m \u001b[0;34m=\u001b[0m \u001b[0mpostag\u001b[0m\u001b[0;34m.\u001b[0m\u001b[0mpostag_komoran\u001b[0m\u001b[0;34m(\u001b[0m\u001b[0mpostag\u001b[0m\u001b[0;34m.\u001b[0m\u001b[0mtokenizer\u001b[0m\u001b[0;34m(\u001b[0m\u001b[0mBR\u001b[0m\u001b[0;34m.\u001b[0m\u001b[0mcompany\u001b[0m\u001b[0;34m)\u001b[0m\u001b[0;34m)\u001b[0m\u001b[0;34m\u001b[0m\u001b[0m\n\u001b[0m\u001b[1;32m     15\u001b[0m         \u001b[0mflat_company_postag\u001b[0m \u001b[0;34m=\u001b[0m \u001b[0;34m[\u001b[0m\u001b[0;34m]\u001b[0m\u001b[0;34m\u001b[0m\u001b[0m\n\u001b[1;32m     16\u001b[0m         \u001b[0;32mfor\u001b[0m \u001b[0mtup\u001b[0m \u001b[0;32min\u001b[0m \u001b[0mcompany_postag\u001b[0m\u001b[0;34m:\u001b[0m\u001b[0;34m\u001b[0m\u001b[0m\n",
      "\u001b[0;32m/output/Preprocessor/postag.py\u001b[0m in \u001b[0;36mpostag_komoran\u001b[0;34m(self, text)\u001b[0m\n\u001b[1;32m     48\u001b[0m \u001b[0;34m\u001b[0m\u001b[0m\n\u001b[1;32m     49\u001b[0m     \u001b[0;32mdef\u001b[0m \u001b[0mpostag_komoran\u001b[0m \u001b[0;34m(\u001b[0m\u001b[0mself\u001b[0m\u001b[0;34m,\u001b[0m \u001b[0mtext\u001b[0m\u001b[0;34m)\u001b[0m\u001b[0;34m:\u001b[0m\u001b[0;34m\u001b[0m\u001b[0m\n\u001b[0;32m---> 50\u001b[0;31m         \u001b[0;32mreturn\u001b[0m \u001b[0mself\u001b[0m\u001b[0;34m.\u001b[0m\u001b[0mkomoran\u001b[0m\u001b[0;34m.\u001b[0m\u001b[0mpos\u001b[0m\u001b[0;34m(\u001b[0m\u001b[0mtext\u001b[0m\u001b[0;34m)\u001b[0m\u001b[0;34m\u001b[0m\u001b[0m\n\u001b[0m\u001b[1;32m     51\u001b[0m \u001b[0;34m\u001b[0m\u001b[0m\n\u001b[1;32m     52\u001b[0m '''\n",
      "\u001b[0;32m/usr/local/lib/python3.6/site-packages/konlpy/tag/_komoran.py\u001b[0m in \u001b[0;36mpos\u001b[0;34m(self, phrase, flatten)\u001b[0m\n\u001b[1;32m     58\u001b[0m             \u001b[0mresult\u001b[0m \u001b[0;34m=\u001b[0m \u001b[0mself\u001b[0m\u001b[0;34m.\u001b[0m\u001b[0mjki\u001b[0m\u001b[0;34m.\u001b[0m\u001b[0manalyzeMorphs\u001b[0m\u001b[0;34m(\u001b[0m\u001b[0mphrase\u001b[0m\u001b[0;34m,\u001b[0m \u001b[0mself\u001b[0m\u001b[0;34m.\u001b[0m\u001b[0mdicpath\u001b[0m\u001b[0;34m)\u001b[0m\u001b[0;34m\u001b[0m\u001b[0m\n\u001b[1;32m     59\u001b[0m         \u001b[0;32melse\u001b[0m\u001b[0;34m:\u001b[0m\u001b[0;34m\u001b[0m\u001b[0m\n\u001b[0;32m---> 60\u001b[0;31m             \u001b[0mresult\u001b[0m \u001b[0;34m=\u001b[0m \u001b[0mself\u001b[0m\u001b[0;34m.\u001b[0m\u001b[0mjki\u001b[0m\u001b[0;34m.\u001b[0m\u001b[0manalyzeMorphs3\u001b[0m\u001b[0;34m(\u001b[0m\u001b[0mphrase\u001b[0m\u001b[0;34m,\u001b[0m \u001b[0mself\u001b[0m\u001b[0;34m.\u001b[0m\u001b[0mdicpath\u001b[0m\u001b[0;34m)\u001b[0m\u001b[0;34m.\u001b[0m\u001b[0mtoString\u001b[0m\u001b[0;34m(\u001b[0m\u001b[0;34m)\u001b[0m\u001b[0;34m\u001b[0m\u001b[0m\n\u001b[0m\u001b[1;32m     61\u001b[0m \u001b[0;34m\u001b[0m\u001b[0m\n\u001b[1;32m     62\u001b[0m         \u001b[0;32mreturn\u001b[0m \u001b[0mparse\u001b[0m\u001b[0;34m(\u001b[0m\u001b[0mresult\u001b[0m\u001b[0;34m,\u001b[0m \u001b[0mflatten\u001b[0m\u001b[0;34m)\u001b[0m\u001b[0;34m\u001b[0m\u001b[0m\n",
      "\u001b[0;32m/usr/local/lib/python3.6/site-packages/jpype/_jclass.py\u001b[0m in \u001b[0;36m_getClassFor\u001b[0;34m(javaClass)\u001b[0m\n\u001b[1;32m     58\u001b[0m \u001b[0;34m\u001b[0m\u001b[0m\n\u001b[1;32m     59\u001b[0m \u001b[0;34m\u001b[0m\u001b[0m\n\u001b[0;32m---> 60\u001b[0;31m \u001b[0;32mdef\u001b[0m \u001b[0m_getClassFor\u001b[0m\u001b[0;34m(\u001b[0m\u001b[0mjavaClass\u001b[0m\u001b[0;34m)\u001b[0m\u001b[0;34m:\u001b[0m\u001b[0;34m\u001b[0m\u001b[0m\n\u001b[0m\u001b[1;32m     61\u001b[0m     \u001b[0mname\u001b[0m \u001b[0;34m=\u001b[0m \u001b[0mjavaClass\u001b[0m\u001b[0;34m.\u001b[0m\u001b[0mgetName\u001b[0m\u001b[0;34m(\u001b[0m\u001b[0;34m)\u001b[0m\u001b[0;34m\u001b[0m\u001b[0m\n\u001b[1;32m     62\u001b[0m     \u001b[0;32mif\u001b[0m \u001b[0mname\u001b[0m \u001b[0;32min\u001b[0m \u001b[0m_CLASSES\u001b[0m\u001b[0;34m:\u001b[0m\u001b[0;34m\u001b[0m\u001b[0m\n",
      "\u001b[0;31mKeyboardInterrupt\u001b[0m: "
     ]
    }
   ],
   "source": [
    "spamFilterModule(\"./Preprocessor/excel/trainset_spam_ham_1to1.xlsx\", True, \"./Preprocessor/excel/Commonreviews_snuproject_validation.xlsx\")"
   ]
  },
  {
   "cell_type": "code",
   "execution_count": null,
   "metadata": {
    "collapsed": true
   },
   "outputs": [],
   "source": [
    "def setModel(path):\n",
    "    model = classifierModule(input_size, batch_size, FRlist, \"./Preprocessor/models/spam_filter.mdl\", True)\n",
    "    \n",
    "def set_batch_size(size):\n",
    "    batch_size = size\n",
    "\n",
    "def set_max_epoch(num):\n",
    "    n_epochs = num\n",
    "    \n",
    "def set_reiewDB(path):\n",
    "    reviewDB = ReviewDB(path)\n",
    "    format_module.FormattedReview.setDB(reviewDB)"
   ]
  }
 ],
 "metadata": {
  "kernelspec": {
   "display_name": "Python 3",
   "language": "python",
   "name": "python3"
  },
  "language_info": {
   "codemirror_mode": {
    "name": "ipython",
    "version": 3
   },
   "file_extension": ".py",
   "mimetype": "text/x-python",
   "name": "python",
   "nbconvert_exporter": "python",
   "pygments_lexer": "ipython3",
   "version": "3.6.1"
  }
 },
 "nbformat": 4,
 "nbformat_minor": 2
}
